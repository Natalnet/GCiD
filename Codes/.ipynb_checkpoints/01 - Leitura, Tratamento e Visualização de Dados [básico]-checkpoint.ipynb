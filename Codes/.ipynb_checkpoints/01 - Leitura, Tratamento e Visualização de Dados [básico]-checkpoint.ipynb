{
 "cells": [
  {
   "cell_type": "code",
   "execution_count": 0,
   "metadata": {
    "colab": {},
    "colab_type": "code",
    "id": "aLdLd10JSafR"
   },
   "outputs": [],
   "source": [
    "#Importando bibliotecas Pandas e Matplotlib\n",
    "import pandas as pd\n",
    "import matplotlib.pyplot as plt"
   ]
  },
  {
   "cell_type": "markdown",
   "metadata": {
    "colab_type": "text",
    "id": "eh2a5B35WjyE"
   },
   "source": [
    "# Antes de começar, é interessante que:\n",
    "### 1 - Tenhamos definido bem o problema que queremos resolver ou, pro caso de uma investigação, tenhamos pelo menos claro o nosso objetivo final.\n",
    "### 2 - Feito isso, definiremos a nossa base de dados, que será a partir dela que iremos desenvolver nosso trabalho.\n",
    "### 3 - Como último passo antes de colocarmos a mão na massa, é sempre bom visualizar nossa base de dados com algum editor de texto simples (Vim, Notepad ++, Bloco de Notas, etc), para entender como deveremos trabalhar em cima destes arquivos."
   ]
  },
  {
   "cell_type": "markdown",
   "metadata": {
    "colab_type": "text",
    "id": "Q2m5-Tk4YHIv"
   },
   "source": [
    "<h3> Base de dados: \n",
    "\n",
    "https://raw.githubusercontent.com/gilvandrocesardemedeiros/ClimatePrediction/master/Dados_INMET/Mensais/INMET-Dados_Mensais_Natal_1968-2018.csv"
   ]
  },
  {
   "cell_type": "markdown",
   "metadata": {
    "colab_type": "text",
    "id": "jTyhwBZPYnqR"
   },
   "source": [
    "<h3> Documentação para leitura de arquivos .csv no Pandas: \n",
    "\n",
    "http://pandas.pydata.org/pandas-docs/stable/reference/api/pandas.read_csv.html\n",
    "  "
   ]
  },
  {
   "cell_type": "code",
   "execution_count": 0,
   "metadata": {
    "colab": {},
    "colab_type": "code",
    "id": "JUz26bvPSoMs"
   },
   "outputs": [],
   "source": [
    "#Leitura dos dados\n",
    "dataSet = pd.read_csv(\"https://raw.githubusercontent.com/gilvandrocesardemedeiros/ClimatePrediction/master/Dados_INMET/Mensais/INMET-Dados_Mensais_Natal_1968-2018.csv\",\n",
    "                     sep = \";\")"
   ]
  },
  {
   "cell_type": "code",
   "execution_count": 0,
   "metadata": {
    "colab": {},
    "colab_type": "code",
    "id": "Ka9tj2fMWYVg"
   },
   "outputs": [],
   "source": [
    "#Visualização geral dos dados\n",
    "dataSet"
   ]
  },
  {
   "cell_type": "code",
   "execution_count": 0,
   "metadata": {
    "colab": {},
    "colab_type": "code",
    "id": "r33gxxxHbyUR"
   },
   "outputs": [],
   "source": [
    "#Visualização apenas do cabeçalho da base de dados\n",
    "dataSet.head()"
   ]
  },
  {
   "cell_type": "code",
   "execution_count": 0,
   "metadata": {
    "colab": {},
    "colab_type": "code",
    "id": "z3nvtqNOcC0r"
   },
   "outputs": [],
   "source": [
    "#Visualizando o \"tipo\" da base de dados\n",
    "print(type(dataSet))"
   ]
  },
  {
   "cell_type": "code",
   "execution_count": 0,
   "metadata": {
    "colab": {},
    "colab_type": "code",
    "id": "F56ikgj0b8p0"
   },
   "outputs": [],
   "source": [
    "#Visualizando apenas os títulos das labels\n",
    "print(list(dataSet))"
   ]
  },
  {
   "cell_type": "code",
   "execution_count": 0,
   "metadata": {
    "colab": {},
    "colab_type": "code",
    "id": "LK2LnDDocT73"
   },
   "outputs": [],
   "source": [
    "#Visualizando apenas a coluna \"PrecipitacaoTotal\"\n",
    "dataSet[\"PrecipitacaoTotal\"]"
   ]
  },
  {
   "cell_type": "code",
   "execution_count": 0,
   "metadata": {
    "colab": {},
    "colab_type": "code",
    "id": "qwmMFtrFdrKI"
   },
   "outputs": [],
   "source": [
    "#Visualizando o \"tipo\" deste objeto criado\n",
    "print(type(dataSet[\"PrecipitacaoTotal\"]))"
   ]
  },
  {
   "cell_type": "code",
   "execution_count": 0,
   "metadata": {
    "colab": {},
    "colab_type": "code",
    "id": "q1_6rA_tdVLS"
   },
   "outputs": [],
   "source": [
    "#Visualizando os valores (sem os índices) da coluna \"PrecipitacaoTotal\"\n",
    "dataSet[\"PrecipitacaoTotal\"].values"
   ]
  },
  {
   "cell_type": "code",
   "execution_count": 0,
   "metadata": {
    "colab": {},
    "colab_type": "code",
    "id": "Bxt9Hm8ldAhB"
   },
   "outputs": [],
   "source": [
    "#Visualizando o \"tipo\" deste objeto criado\n",
    "print(type(dataSet[\"PrecipitacaoTotal\"].values))"
   ]
  },
  {
   "cell_type": "code",
   "execution_count": 0,
   "metadata": {
    "colab": {},
    "colab_type": "code",
    "id": "BtM9AJT7eF0G"
   },
   "outputs": [],
   "source": [
    "#Selecionando duas (ou mais) labels do DataFrame\n",
    "dataSet[[\"Data\",\"PrecipitacaoTotal\"]]"
   ]
  },
  {
   "cell_type": "code",
   "execution_count": 0,
   "metadata": {
    "colab": {},
    "colab_type": "code",
    "id": "gWnBdsO5hFx_"
   },
   "outputs": [],
   "source": [
    "#Visualizando o tipo dos dados armazenados em cada label\n",
    "dataSet.dtypes"
   ]
  },
  {
   "cell_type": "code",
   "execution_count": 0,
   "metadata": {
    "colab": {},
    "colab_type": "code",
    "id": "2XaTZzi8kbt9"
   },
   "outputs": [],
   "source": [
    "#Visualizando o dataSet novamente\n",
    "dataSet.head()"
   ]
  },
  {
   "cell_type": "markdown",
   "metadata": {
    "colab_type": "text",
    "id": "RoRgtsC-hxAB"
   },
   "source": [
    "<h3> Trabalhando com datas: \n",
    "\n",
    "https://docs.python.org/3/library/datetime.html#available-types"
   ]
  },
  {
   "cell_type": "code",
   "execution_count": 0,
   "metadata": {
    "colab": {},
    "colab_type": "code",
    "id": "li29aHuIhq3n"
   },
   "outputs": [],
   "source": [
    "from datetime import datetime\n",
    "#Transformando data em variável do tipo datetime\n",
    "dataSet[\"Data\"] = pd.to_datetime(dataSet[\"Data\"], format = \"%d/%m/%Y\")"
   ]
  },
  {
   "cell_type": "code",
   "execution_count": 0,
   "metadata": {
    "colab": {},
    "colab_type": "code",
    "id": "aGAQI10AknbQ"
   },
   "outputs": [],
   "source": [
    "#Visualizando o tipo dos dados armazenados em cada label\n",
    "dataSet.dtypes"
   ]
  },
  {
   "cell_type": "code",
   "execution_count": 0,
   "metadata": {
    "colab": {},
    "colab_type": "code",
    "id": "tvKNFLclksA6"
   },
   "outputs": [],
   "source": [
    "#Visualizando o dataSet novamente\n",
    "dataSet.head()"
   ]
  },
  {
   "cell_type": "code",
   "execution_count": 0,
   "metadata": {
    "colab": {},
    "colab_type": "code",
    "id": "rAcNo0ULk48R"
   },
   "outputs": [],
   "source": [
    "#Eliminando labels com problemas nos dados\n",
    "dataSet = dataSet.drop(columns = [\"EvapoBHPotencial\",\"EvapoBHReal\",\"PressaoNivelMarMedia\",\"PressaoMedia\",\"VisibilidadeMedia\",\"Unnamed: 20\"])"
   ]
  },
  {
   "cell_type": "code",
   "execution_count": 0,
   "metadata": {
    "colab": {},
    "colab_type": "code",
    "id": "ypMRxlHylYu3"
   },
   "outputs": [],
   "source": [
    "#Visualizando o dataSet novamente\n",
    "dataSet.head()"
   ]
  },
  {
   "cell_type": "code",
   "execution_count": 0,
   "metadata": {
    "colab": {},
    "colab_type": "code",
    "id": "0c3R9fD6legi"
   },
   "outputs": [],
   "source": [
    "#Verificando dimensões da base de dados\n",
    "dataSet.shape"
   ]
  },
  {
   "cell_type": "code",
   "execution_count": 0,
   "metadata": {
    "colab": {},
    "colab_type": "code",
    "id": "2YRv2jBTlngZ"
   },
   "outputs": [],
   "source": [
    "#Eliminando eventuais falhas\n",
    "dataSet = dataSet.dropna()"
   ]
  },
  {
   "cell_type": "code",
   "execution_count": 0,
   "metadata": {
    "colab": {},
    "colab_type": "code",
    "id": "apfsIkczlu18"
   },
   "outputs": [],
   "source": [
    "#Verificando novas dimensões da base de dados\n",
    "dataSet.shape"
   ]
  },
  {
   "cell_type": "code",
   "execution_count": 0,
   "metadata": {
    "colab": {},
    "colab_type": "code",
    "id": "lVQLJb_hmu9h"
   },
   "outputs": [],
   "source": [
    "#Verificando os eventos em que a precipitação foi superior a 500 mm\n",
    "dataSet[dataSet[\"PrecipitacaoTotal\"] > 500]"
   ]
  },
  {
   "cell_type": "code",
   "execution_count": 0,
   "metadata": {
    "colab": {},
    "colab_type": "code",
    "id": "XNsdcrqApcOD"
   },
   "outputs": [],
   "source": [
    "#Verificando os eventos em que a precipitação foi superior a 500 mm, mas visualizando apenas a data, número de dias de precipitação e temperatura máxima média\n",
    "dataSet[dataSet[\"PrecipitacaoTotal\"] > 500][[\"Data\",\"NumDiasPrecipitacao\",\"TempMaximaMedia\"]]"
   ]
  },
  {
   "cell_type": "markdown",
   "metadata": {
    "colab_type": "text",
    "id": "kBWhEfnarPR9"
   },
   "source": [
    "<h3> Agora vamos trabalhar com gráficos em Matplotlib:\n",
    "\n",
    "https://matplotlib.org/gallery/index.html"
   ]
  },
  {
   "cell_type": "code",
   "execution_count": 0,
   "metadata": {
    "colab": {},
    "colab_type": "code",
    "id": "aJcixBVrtBb_"
   },
   "outputs": [],
   "source": [
    "#Plotagem simples\n",
    "plt.plot(dataSet[\"Data\"], dataSet[\"PrecipitacaoTotal\"])\n",
    "plt.title(\"Precipitação ao longo dos anos\")\n",
    "plt.xlabel(\"Data\")\n",
    "plt.ylabel(\"Precipitação\")\n",
    "plt.show()"
   ]
  },
  {
   "cell_type": "code",
   "execution_count": 0,
   "metadata": {
    "colab": {},
    "colab_type": "code",
    "id": "8sc41IkFr6ud"
   },
   "outputs": [],
   "source": [
    "#Scatter plot\n",
    "plt.scatter(dataSet[\"Data\"], dataSet[\"PrecipitacaoTotal\"])\n",
    "plt.title(\"Precipitação ao longo dos anos\")\n",
    "plt.xlabel(\"Data\")\n",
    "plt.ylabel(\"Precipitação\")\n",
    "plt.show()"
   ]
  }
 ],
 "metadata": {
  "colab": {
   "collapsed_sections": [],
   "name": "01 [Lab] - GE Data Science.ipynb",
   "provenance": [],
   "version": "0.3.2"
  },
  "kernelspec": {
   "display_name": "Python 3",
   "language": "python",
   "name": "python3"
  },
  "language_info": {
   "codemirror_mode": {
    "name": "ipython",
    "version": 3
   },
   "file_extension": ".py",
   "mimetype": "text/x-python",
   "name": "python",
   "nbconvert_exporter": "python",
   "pygments_lexer": "ipython3",
   "version": "3.6.8"
  }
 },
 "nbformat": 4,
 "nbformat_minor": 1
}
