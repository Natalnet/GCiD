{
 "cells": [
  {
   "cell_type": "markdown",
   "metadata": {
    "colab_type": "text",
    "id": "MRXgvNO4GGTK"
   },
   "source": [
    "## *Multi-Layer Perceptron* (Perceptron de Muitas Camadas)"
   ]
  },
  {
   "cell_type": "markdown",
   "metadata": {
    "colab_type": "text",
    "id": "C25cQbJy48P8"
   },
   "source": [
    "# Agora vamos resolver um problema prático e bastante desafiador, para verificar o real poder das redes neurais artificiais. Como de costume, vamos primeiro investigar a base de dados que utilizaremos. Dê uma olhada:\n",
    "  \n",
    "https://github.com/gilvandrocesardemedeiros/GEDataScience/raw/master/Codes/Data/curitibadiario.csv"
   ]
  },
  {
   "cell_type": "code",
   "execution_count": 1,
   "metadata": {
    "colab": {},
    "colab_type": "code",
    "id": "GA54QwgTGZpu"
   },
   "outputs": [],
   "source": [
    "import pandas as pd\n",
    "import matplotlib.pyplot as plt\n",
    "#Leitura de dados\n",
    "dataSet = pd.read_csv(\"https://github.com/gilvandrocesardemedeiros/GEDataScience/raw/master/Codes/Data/curitibadiario.csv\",\n",
    "                      skiprows = 16, sep=';')\n"
   ]
  },
  {
   "cell_type": "code",
   "execution_count": 2,
   "metadata": {
    "colab": {
     "base_uri": "https://localhost:8080/",
     "height": 204
    },
    "colab_type": "code",
    "id": "Mz2WiP7s5fCE",
    "outputId": "3a136153-6fb1-4f3b-9b68-ac8d78c38d91"
   },
   "outputs": [
    {
     "data": {
      "text/html": [
       "<div>\n",
       "<style scoped>\n",
       "    .dataframe tbody tr th:only-of-type {\n",
       "        vertical-align: middle;\n",
       "    }\n",
       "\n",
       "    .dataframe tbody tr th {\n",
       "        vertical-align: top;\n",
       "    }\n",
       "\n",
       "    .dataframe thead th {\n",
       "        text-align: right;\n",
       "    }\n",
       "</style>\n",
       "<table border=\"1\" class=\"dataframe\">\n",
       "  <thead>\n",
       "    <tr style=\"text-align: right;\">\n",
       "      <th></th>\n",
       "      <th>Estacao</th>\n",
       "      <th>Data</th>\n",
       "      <th>Hora</th>\n",
       "      <th>Precipitacao</th>\n",
       "      <th>TempMaxima</th>\n",
       "      <th>TempMinima</th>\n",
       "      <th>Insolacao</th>\n",
       "      <th>Evaporacao Piche</th>\n",
       "      <th>Temp Comp Media</th>\n",
       "      <th>Umidade Relativa Media</th>\n",
       "      <th>Velocidade do Vento Media</th>\n",
       "      <th>Unnamed: 11</th>\n",
       "    </tr>\n",
       "  </thead>\n",
       "  <tbody>\n",
       "    <tr>\n",
       "      <th>0</th>\n",
       "      <td>83842</td>\n",
       "      <td>01/01/1980</td>\n",
       "      <td>0</td>\n",
       "      <td>NaN</td>\n",
       "      <td>24.6</td>\n",
       "      <td>NaN</td>\n",
       "      <td>11.7</td>\n",
       "      <td>7.4</td>\n",
       "      <td>15.94</td>\n",
       "      <td>69.25</td>\n",
       "      <td>3.366667</td>\n",
       "      <td>NaN</td>\n",
       "    </tr>\n",
       "    <tr>\n",
       "      <th>1</th>\n",
       "      <td>83842</td>\n",
       "      <td>01/01/1980</td>\n",
       "      <td>1200</td>\n",
       "      <td>0.0</td>\n",
       "      <td>NaN</td>\n",
       "      <td>9.0</td>\n",
       "      <td>NaN</td>\n",
       "      <td>NaN</td>\n",
       "      <td>NaN</td>\n",
       "      <td>NaN</td>\n",
       "      <td>NaN</td>\n",
       "      <td>NaN</td>\n",
       "    </tr>\n",
       "    <tr>\n",
       "      <th>2</th>\n",
       "      <td>83842</td>\n",
       "      <td>02/01/1980</td>\n",
       "      <td>0</td>\n",
       "      <td>NaN</td>\n",
       "      <td>25.0</td>\n",
       "      <td>NaN</td>\n",
       "      <td>8.1</td>\n",
       "      <td>1.9</td>\n",
       "      <td>16.52</td>\n",
       "      <td>76.75</td>\n",
       "      <td>1.700000</td>\n",
       "      <td>NaN</td>\n",
       "    </tr>\n",
       "    <tr>\n",
       "      <th>3</th>\n",
       "      <td>83842</td>\n",
       "      <td>02/01/1980</td>\n",
       "      <td>1200</td>\n",
       "      <td>0.0</td>\n",
       "      <td>NaN</td>\n",
       "      <td>11.7</td>\n",
       "      <td>NaN</td>\n",
       "      <td>NaN</td>\n",
       "      <td>NaN</td>\n",
       "      <td>NaN</td>\n",
       "      <td>NaN</td>\n",
       "      <td>NaN</td>\n",
       "    </tr>\n",
       "    <tr>\n",
       "      <th>4</th>\n",
       "      <td>83842</td>\n",
       "      <td>03/01/1980</td>\n",
       "      <td>0</td>\n",
       "      <td>NaN</td>\n",
       "      <td>27.1</td>\n",
       "      <td>NaN</td>\n",
       "      <td>11.2</td>\n",
       "      <td>2.9</td>\n",
       "      <td>18.92</td>\n",
       "      <td>71.00</td>\n",
       "      <td>1.833333</td>\n",
       "      <td>NaN</td>\n",
       "    </tr>\n",
       "  </tbody>\n",
       "</table>\n",
       "</div>"
      ],
      "text/plain": [
       "   Estacao        Data  Hora  Precipitacao  TempMaxima  TempMinima  Insolacao  \\\n",
       "0    83842  01/01/1980     0           NaN        24.6         NaN       11.7   \n",
       "1    83842  01/01/1980  1200           0.0         NaN         9.0        NaN   \n",
       "2    83842  02/01/1980     0           NaN        25.0         NaN        8.1   \n",
       "3    83842  02/01/1980  1200           0.0         NaN        11.7        NaN   \n",
       "4    83842  03/01/1980     0           NaN        27.1         NaN       11.2   \n",
       "\n",
       "   Evaporacao Piche  Temp Comp Media  Umidade Relativa Media  \\\n",
       "0               7.4            15.94                   69.25   \n",
       "1               NaN              NaN                     NaN   \n",
       "2               1.9            16.52                   76.75   \n",
       "3               NaN              NaN                     NaN   \n",
       "4               2.9            18.92                   71.00   \n",
       "\n",
       "   Velocidade do Vento Media  Unnamed: 11  \n",
       "0                   3.366667          NaN  \n",
       "1                        NaN          NaN  \n",
       "2                   1.700000          NaN  \n",
       "3                        NaN          NaN  \n",
       "4                   1.833333          NaN  "
      ]
     },
     "execution_count": 2,
     "metadata": {},
     "output_type": "execute_result"
    }
   ],
   "source": [
    "#Visualizando cabeçalho dos dados\n",
    "dataSet.head()"
   ]
  },
  {
   "cell_type": "markdown",
   "metadata": {
    "colab_type": "text",
    "id": "L80q1OJ1-PEj"
   },
   "source": [
    "# Velho problema conhecido, que já sabemos como resolver. Vamos simplificar e juntar todos os passos (já estudados) em uma função, que vai retornar nossa base de dados bem mais organizada."
   ]
  },
  {
   "cell_type": "code",
   "execution_count": 3,
   "metadata": {
    "colab": {},
    "colab_type": "code",
    "id": "suOCgeY8-Zuk"
   },
   "outputs": [],
   "source": [
    "def OrganizarDados(dataSet):\n",
    "    #Transformando data em variável do tipo datetime\n",
    "    dataSet[\"Data\"] = pd.to_datetime(dataSet[\"Data\"], format = \"%d/%m/%Y\")\n",
    "    #Atribuindo \"Data\" como índice para a base de dados\n",
    "    dataSet = dataSet.set_index(\"Data\")\n",
    "    #Separando os dados em dois dataframes, um para as 00:00 h e outro para as 12:00 h\n",
    "    dataSet00, dataSet12 = dataSet[dataSet[\"Hora\"] == 0], dataSet[dataSet[\"Hora\"] == 1200]\n",
    "    #Descartando as colunas \"Hora\", \"Estacao\" e \"Unnamed: 11\" \n",
    "    dataSet00, dataSet12 = dataSet00.drop(columns = [\"Hora\", \"Estacao\", \"Unnamed: 11\"]), dataSet12.drop(columns = [\"Hora\", \"Estacao\", \"Unnamed: 11\"])\n",
    "    #Eliminando colunas completas por \"NaN\" em cada uma das bases de dados\n",
    "    dataSet00 = dataSet00.drop(columns = [\"Precipitacao\",\"TempMinima\"])\n",
    "    dataSet12 = dataSet12.drop(columns = [\"TempMaxima\",\"Insolacao\",\"Evaporacao Piche\",\"Temp Comp Media\",\"Umidade Relativa Media\",\"Velocidade do Vento Media\"])\n",
    "    #Criando o intervalo completo de tempo de 01-01-2005 à 31-12-2017\n",
    "    dataInicial = '2005-01-01'\n",
    "    dataFinal = '2017-12-31'\n",
    "    tempo = pd.date_range(dataInicial, dataFinal)\n",
    "    #Atribuindo este intervalo de tempo à um dataSet provisório\n",
    "    dataSetProv = pd.DataFrame()\n",
    "    dataSetProv[\"Data\"] = tempo\n",
    "    #Atribuindo o índice para o dataSet provisório como sendo a coluna de datas\n",
    "    dataSetProv = dataSetProv.set_index(\"Data\")\n",
    "    #Mesclando o dataSet provisório como sendo o resultado da junção dos dataSet00 e dataSet12\n",
    "    dataSetProv = dataSetProv.join(dataSet00).join(dataSet12)\n",
    "    #Tornando o dataSet como sendo o dataSet provisório\n",
    "    dataSet = dataSetProv  \n",
    "    return dataSet"
   ]
  },
  {
   "cell_type": "code",
   "execution_count": 4,
   "metadata": {
    "colab": {},
    "colab_type": "code",
    "id": "bKoRgM0c-rjf"
   },
   "outputs": [],
   "source": [
    "#Aplicando a função ao dataSet\n",
    "dataSet = OrganizarDados(dataSet)"
   ]
  },
  {
   "cell_type": "markdown",
   "metadata": {
    "colab_type": "text",
    "id": "Ut10fr2I6NWW"
   },
   "source": [
    "# Nosso objetivo hoje é prever temperatura máxima para um determinado mês, dada uma determinada combinação de outras variáveis. Será que conseguimos?"
   ]
  },
  {
   "cell_type": "code",
   "execution_count": 5,
   "metadata": {
    "colab": {
     "base_uri": "https://localhost:8080/",
     "height": 295
    },
    "colab_type": "code",
    "id": "DhT2TpIg6DY_",
    "outputId": "e2fd298f-8e5e-4ef7-a9e4-8ce40f318a41"
   },
   "outputs": [
    {
     "name": "stderr",
     "output_type": "stream",
     "text": [
      "/home/gilvandro/anaconda3/lib/python3.6/site-packages/pandas/plotting/_converter.py:129: FutureWarning: Using an implicitly registered datetime converter for a matplotlib plotting method. The converter was registered by pandas on import. Future versions of pandas will require you to explicitly register matplotlib converters.\n",
      "\n",
      "To register the converters:\n",
      "\t>>> from pandas.plotting import register_matplotlib_converters\n",
      "\t>>> register_matplotlib_converters()\n",
      "  warnings.warn(msg, FutureWarning)\n"
     ]
    },
    {
     "data": {
      "image/png": "[encoded data removed]",
      "text/plain": [
       "<Figure size 432x288 with 1 Axes>"
      ]
     },
     "metadata": {
      "needs_background": "light"
     },
     "output_type": "display_data"
    }
   ],
   "source": [
    "#Visualizando relação dos dados\n",
    "plt.scatter(dataSet.index, dataSet[\"TempMaxima\"])\n",
    "plt.title(\"Distribuição de temperatura máxima ao longo dos últimos anos\")\n",
    "plt.xlabel(\"Data\")\n",
    "plt.ylabel(\"Temperatura máxima diária\")\n",
    "plt.show()"
   ]
  },
  {
   "cell_type": "markdown",
   "metadata": {
    "colab_type": "text",
    "id": "NnUnyVf160QZ"
   },
   "source": [
    "# Não parece nada simples, hein? Desafio você a tentar modelar uma função polinomial que descreva o comportamento desse problema. O último ser humano que tentou realizar essa proeza foi encontrado meses depois congelado em uma caverna no Alaska (fonte: FEI - Fatos que Eu Inventei)"
   ]
  },
  {
   "cell_type": "code",
   "execution_count": 6,
   "metadata": {
    "colab": {},
    "colab_type": "code",
    "id": "7ASFRyV7-xxF"
   },
   "outputs": [],
   "source": [
    "#Tornando a informação de mês uma variável do dataSet\n",
    "dataSet[\"Mes\"] = dataSet.index.month"
   ]
  },
  {
   "cell_type": "code",
   "execution_count": 7,
   "metadata": {
    "colab": {},
    "colab_type": "code",
    "id": "7-eMKEw0-0us"
   },
   "outputs": [],
   "source": [
    "#Eliminando eventos inconsistentes da base de dados\n",
    "dataSet = dataSet.dropna()"
   ]
  },
  {
   "cell_type": "code",
   "execution_count": 8,
   "metadata": {
    "colab": {},
    "colab_type": "code",
    "id": "iTMULiEu-3Ds"
   },
   "outputs": [],
   "source": [
    "#Resentando o índice do dataSet\n",
    "dataSet = dataSet.reset_index(drop = True)"
   ]
  },
  {
   "cell_type": "code",
   "execution_count": 9,
   "metadata": {
    "colab": {
     "base_uri": "https://localhost:8080/",
     "height": 204
    },
    "colab_type": "code",
    "id": "n1HddWA3-5p6",
    "outputId": "7ce4e5d0-e06c-4f35-ee05-44fb3330b3eb"
   },
   "outputs": [
    {
     "data": {
      "text/html": [
       "<div>\n",
       "<style scoped>\n",
       "    .dataframe tbody tr th:only-of-type {\n",
       "        vertical-align: middle;\n",
       "    }\n",
       "\n",
       "    .dataframe tbody tr th {\n",
       "        vertical-align: top;\n",
       "    }\n",
       "\n",
       "    .dataframe thead th {\n",
       "        text-align: right;\n",
       "    }\n",
       "</style>\n",
       "<table border=\"1\" class=\"dataframe\">\n",
       "  <thead>\n",
       "    <tr style=\"text-align: right;\">\n",
       "      <th></th>\n",
       "      <th>TempMaxima</th>\n",
       "      <th>Insolacao</th>\n",
       "      <th>Evaporacao Piche</th>\n",
       "      <th>Temp Comp Media</th>\n",
       "      <th>Umidade Relativa Media</th>\n",
       "      <th>Velocidade do Vento Media</th>\n",
       "      <th>Precipitacao</th>\n",
       "      <th>TempMinima</th>\n",
       "      <th>Mes</th>\n",
       "    </tr>\n",
       "  </thead>\n",
       "  <tbody>\n",
       "    <tr>\n",
       "      <th>0</th>\n",
       "      <td>28.6</td>\n",
       "      <td>4.9</td>\n",
       "      <td>3.8</td>\n",
       "      <td>21.62</td>\n",
       "      <td>79.00</td>\n",
       "      <td>2.466667</td>\n",
       "      <td>0.6</td>\n",
       "      <td>18.7</td>\n",
       "      <td>1</td>\n",
       "    </tr>\n",
       "    <tr>\n",
       "      <th>1</th>\n",
       "      <td>28.6</td>\n",
       "      <td>10.8</td>\n",
       "      <td>2.2</td>\n",
       "      <td>21.76</td>\n",
       "      <td>73.25</td>\n",
       "      <td>2.566667</td>\n",
       "      <td>0.0</td>\n",
       "      <td>16.6</td>\n",
       "      <td>1</td>\n",
       "    </tr>\n",
       "    <tr>\n",
       "      <th>2</th>\n",
       "      <td>26.5</td>\n",
       "      <td>0.3</td>\n",
       "      <td>3.0</td>\n",
       "      <td>20.70</td>\n",
       "      <td>81.75</td>\n",
       "      <td>2.266667</td>\n",
       "      <td>0.0</td>\n",
       "      <td>17.4</td>\n",
       "      <td>1</td>\n",
       "    </tr>\n",
       "    <tr>\n",
       "      <th>3</th>\n",
       "      <td>25.3</td>\n",
       "      <td>0.3</td>\n",
       "      <td>1.8</td>\n",
       "      <td>20.20</td>\n",
       "      <td>90.00</td>\n",
       "      <td>1.366667</td>\n",
       "      <td>16.4</td>\n",
       "      <td>17.2</td>\n",
       "      <td>1</td>\n",
       "    </tr>\n",
       "    <tr>\n",
       "      <th>4</th>\n",
       "      <td>25.0</td>\n",
       "      <td>0.2</td>\n",
       "      <td>0.7</td>\n",
       "      <td>21.06</td>\n",
       "      <td>91.00</td>\n",
       "      <td>0.533333</td>\n",
       "      <td>17.9</td>\n",
       "      <td>18.2</td>\n",
       "      <td>1</td>\n",
       "    </tr>\n",
       "  </tbody>\n",
       "</table>\n",
       "</div>"
      ],
      "text/plain": [
       "   TempMaxima  Insolacao  Evaporacao Piche  Temp Comp Media  \\\n",
       "0        28.6        4.9               3.8            21.62   \n",
       "1        28.6       10.8               2.2            21.76   \n",
       "2        26.5        0.3               3.0            20.70   \n",
       "3        25.3        0.3               1.8            20.20   \n",
       "4        25.0        0.2               0.7            21.06   \n",
       "\n",
       "   Umidade Relativa Media  Velocidade do Vento Media  Precipitacao  \\\n",
       "0                   79.00                   2.466667           0.6   \n",
       "1                   73.25                   2.566667           0.0   \n",
       "2                   81.75                   2.266667           0.0   \n",
       "3                   90.00                   1.366667          16.4   \n",
       "4                   91.00                   0.533333          17.9   \n",
       "\n",
       "   TempMinima  Mes  \n",
       "0        18.7    1  \n",
       "1        16.6    1  \n",
       "2        17.4    1  \n",
       "3        17.2    1  \n",
       "4        18.2    1  "
      ]
     },
     "execution_count": 9,
     "metadata": {},
     "output_type": "execute_result"
    }
   ],
   "source": [
    "#Visualizando cabeçalho dos dados\n",
    "dataSet.head()"
   ]
  },
  {
   "cell_type": "code",
   "execution_count": 10,
   "metadata": {
    "colab": {
     "base_uri": "https://localhost:8080/",
     "height": 297
    },
    "colab_type": "code",
    "id": "NFGaK5bh_AXU",
    "outputId": "2c0be85e-ed9c-49d9-aef0-4a3be7cc3a51"
   },
   "outputs": [
    {
     "data": {
      "text/html": [
       "<div>\n",
       "<style scoped>\n",
       "    .dataframe tbody tr th:only-of-type {\n",
       "        vertical-align: middle;\n",
       "    }\n",
       "\n",
       "    .dataframe tbody tr th {\n",
       "        vertical-align: top;\n",
       "    }\n",
       "\n",
       "    .dataframe thead th {\n",
       "        text-align: right;\n",
       "    }\n",
       "</style>\n",
       "<table border=\"1\" class=\"dataframe\">\n",
       "  <thead>\n",
       "    <tr style=\"text-align: right;\">\n",
       "      <th></th>\n",
       "      <th>TempMaxima</th>\n",
       "      <th>Insolacao</th>\n",
       "      <th>Evaporacao Piche</th>\n",
       "      <th>Temp Comp Media</th>\n",
       "      <th>Umidade Relativa Media</th>\n",
       "      <th>Velocidade do Vento Media</th>\n",
       "      <th>Precipitacao</th>\n",
       "      <th>TempMinima</th>\n",
       "      <th>Mes</th>\n",
       "    </tr>\n",
       "  </thead>\n",
       "  <tbody>\n",
       "    <tr>\n",
       "      <th>count</th>\n",
       "      <td>4643.000000</td>\n",
       "      <td>4643.000000</td>\n",
       "      <td>4643.000000</td>\n",
       "      <td>4643.000000</td>\n",
       "      <td>4643.000000</td>\n",
       "      <td>4643.000000</td>\n",
       "      <td>4643.000000</td>\n",
       "      <td>4643.000000</td>\n",
       "      <td>4643.000000</td>\n",
       "    </tr>\n",
       "    <tr>\n",
       "      <th>mean</th>\n",
       "      <td>23.861081</td>\n",
       "      <td>5.033427</td>\n",
       "      <td>2.195865</td>\n",
       "      <td>17.877097</td>\n",
       "      <td>80.161857</td>\n",
       "      <td>2.217933</td>\n",
       "      <td>4.485096</td>\n",
       "      <td>14.052660</td>\n",
       "      <td>6.444325</td>\n",
       "    </tr>\n",
       "    <tr>\n",
       "      <th>std</th>\n",
       "      <td>4.682767</td>\n",
       "      <td>3.676346</td>\n",
       "      <td>1.317875</td>\n",
       "      <td>3.842865</td>\n",
       "      <td>9.428646</td>\n",
       "      <td>0.782140</td>\n",
       "      <td>10.737399</td>\n",
       "      <td>3.932997</td>\n",
       "      <td>3.422445</td>\n",
       "    </tr>\n",
       "    <tr>\n",
       "      <th>min</th>\n",
       "      <td>7.100000</td>\n",
       "      <td>0.000000</td>\n",
       "      <td>0.000000</td>\n",
       "      <td>3.300000</td>\n",
       "      <td>37.750000</td>\n",
       "      <td>0.366667</td>\n",
       "      <td>0.000000</td>\n",
       "      <td>-2.100000</td>\n",
       "      <td>1.000000</td>\n",
       "    </tr>\n",
       "    <tr>\n",
       "      <th>25%</th>\n",
       "      <td>20.500000</td>\n",
       "      <td>1.300000</td>\n",
       "      <td>1.200000</td>\n",
       "      <td>15.200000</td>\n",
       "      <td>74.750000</td>\n",
       "      <td>1.700000</td>\n",
       "      <td>0.000000</td>\n",
       "      <td>11.600000</td>\n",
       "      <td>4.000000</td>\n",
       "    </tr>\n",
       "    <tr>\n",
       "      <th>50%</th>\n",
       "      <td>24.200000</td>\n",
       "      <td>5.200000</td>\n",
       "      <td>2.000000</td>\n",
       "      <td>18.080000</td>\n",
       "      <td>81.250000</td>\n",
       "      <td>2.133333</td>\n",
       "      <td>0.000000</td>\n",
       "      <td>14.400000</td>\n",
       "      <td>6.000000</td>\n",
       "    </tr>\n",
       "    <tr>\n",
       "      <th>75%</th>\n",
       "      <td>27.400000</td>\n",
       "      <td>8.300000</td>\n",
       "      <td>2.900000</td>\n",
       "      <td>20.880000</td>\n",
       "      <td>87.000000</td>\n",
       "      <td>2.633333</td>\n",
       "      <td>2.900000</td>\n",
       "      <td>17.200000</td>\n",
       "      <td>9.000000</td>\n",
       "    </tr>\n",
       "    <tr>\n",
       "      <th>max</th>\n",
       "      <td>34.600000</td>\n",
       "      <td>12.600000</td>\n",
       "      <td>11.600000</td>\n",
       "      <td>27.380000</td>\n",
       "      <td>98.750000</td>\n",
       "      <td>6.400000</td>\n",
       "      <td>128.200000</td>\n",
       "      <td>22.400000</td>\n",
       "      <td>12.000000</td>\n",
       "    </tr>\n",
       "  </tbody>\n",
       "</table>\n",
       "</div>"
      ],
      "text/plain": [
       "        TempMaxima    Insolacao  Evaporacao Piche  Temp Comp Media  \\\n",
       "count  4643.000000  4643.000000       4643.000000      4643.000000   \n",
       "mean     23.861081     5.033427          2.195865        17.877097   \n",
       "std       4.682767     3.676346          1.317875         3.842865   \n",
       "min       7.100000     0.000000          0.000000         3.300000   \n",
       "25%      20.500000     1.300000          1.200000        15.200000   \n",
       "50%      24.200000     5.200000          2.000000        18.080000   \n",
       "75%      27.400000     8.300000          2.900000        20.880000   \n",
       "max      34.600000    12.600000         11.600000        27.380000   \n",
       "\n",
       "       Umidade Relativa Media  Velocidade do Vento Media  Precipitacao  \\\n",
       "count             4643.000000                4643.000000   4643.000000   \n",
       "mean                80.161857                   2.217933      4.485096   \n",
       "std                  9.428646                   0.782140     10.737399   \n",
       "min                 37.750000                   0.366667      0.000000   \n",
       "25%                 74.750000                   1.700000      0.000000   \n",
       "50%                 81.250000                   2.133333      0.000000   \n",
       "75%                 87.000000                   2.633333      2.900000   \n",
       "max                 98.750000                   6.400000    128.200000   \n",
       "\n",
       "        TempMinima          Mes  \n",
       "count  4643.000000  4643.000000  \n",
       "mean     14.052660     6.444325  \n",
       "std       3.932997     3.422445  \n",
       "min      -2.100000     1.000000  \n",
       "25%      11.600000     4.000000  \n",
       "50%      14.400000     6.000000  \n",
       "75%      17.200000     9.000000  \n",
       "max      22.400000    12.000000  "
      ]
     },
     "execution_count": 10,
     "metadata": {},
     "output_type": "execute_result"
    }
   ],
   "source": [
    "#Visualizando descrição resumida dos dados\n",
    "dataSet.describe()"
   ]
  },
  {
   "cell_type": "markdown",
   "metadata": {
    "colab_type": "text",
    "id": "q3bpc4eB_Js-"
   },
   "source": [
    "# Agora vamos separar o que queremos prever (TempMaxima) do restante da base de dados (dataSet)"
   ]
  },
  {
   "cell_type": "code",
   "execution_count": 11,
   "metadata": {
    "colab": {},
    "colab_type": "code",
    "id": "D7ZEpnrw7Jc5"
   },
   "outputs": [],
   "source": [
    "#Separando \"TempMaxima\" de dataSet\n",
    "tempMax = dataSet[\"TempMaxima\"]\n",
    "dataSet = dataSet.drop(columns = [\"TempMaxima\"])"
   ]
  },
  {
   "cell_type": "code",
   "execution_count": 12,
   "metadata": {
    "colab": {},
    "colab_type": "code",
    "id": "ScYBJzXH6zY8"
   },
   "outputs": [],
   "source": [
    "from sklearn.model_selection import train_test_split\n",
    "#Separando os conjuntos de treino e teste com os dados embaralhados, sendo 80% para treino e 20% para teste\n",
    "X_train, X_test, y_train, y_test = train_test_split(dataSet, tempMax, test_size = 0.2, random_state = 9)"
   ]
  },
  {
   "cell_type": "code",
   "execution_count": 13,
   "metadata": {
    "colab": {
     "base_uri": "https://localhost:8080/",
     "height": 34
    },
    "colab_type": "code",
    "id": "q9h-ds5RDtJO",
    "outputId": "5d051a83-4e48-4ce7-c8ba-958694ec9d8b"
   },
   "outputs": [
    {
     "name": "stdout",
     "output_type": "stream",
     "text": [
      "(3714, 8)\n"
     ]
    }
   ],
   "source": [
    "#Visualizando as dimensões da nossa base de treino (isso será útil mais na frente)\n",
    "print(X_train.shape)"
   ]
  },
  {
   "cell_type": "code",
   "execution_count": 14,
   "metadata": {
    "colab": {},
    "colab_type": "code",
    "id": "Dq5QW74EBvBa"
   },
   "outputs": [],
   "source": [
    "from sklearn.preprocessing import MinMaxScaler\n",
    "#Aplicando uma transformação que lineariza os dados entre -1 e 1\n",
    "mms = MinMaxScaler(feature_range=(-1, 1))\n",
    "X_train = mms.fit_transform(X_train)\n",
    "X_test = mms.transform(X_test)"
   ]
  },
  {
   "cell_type": "markdown",
   "metadata": {
    "colab_type": "text",
    "id": "rD4BBoIxCcku"
   },
   "source": [
    "# Agora chegamos no momento esperado: Usar a MLP"
   ]
  },
  {
   "cell_type": "code",
   "execution_count": 15,
   "metadata": {
    "colab": {},
    "colab_type": "code",
    "id": "BXpbv8XKCbwM"
   },
   "outputs": [
    {
     "name": "stderr",
     "output_type": "stream",
     "text": [
      "Using TensorFlow backend.\n"
     ]
    }
   ],
   "source": [
    "from keras.models import Sequential\n",
    "#Declarando a variável \"mlp\" como um objeto do tipo \"Sequential\" (referente às redes de múltiplas camadas) \n",
    "mlp = Sequential()"
   ]
  },
  {
   "cell_type": "code",
   "execution_count": 16,
   "metadata": {
    "colab": {},
    "colab_type": "code",
    "id": "1LJ3GyNCDS6d"
   },
   "outputs": [
    {
     "name": "stdout",
     "output_type": "stream",
     "text": [
      "WARNING:tensorflow:From /home/gilvandro/anaconda3/lib/python3.6/site-packages/tensorflow/python/framework/op_def_library.py:263: colocate_with (from tensorflow.python.framework.ops) is deprecated and will be removed in a future version.\n",
      "Instructions for updating:\n",
      "Colocations handled automatically by placer.\n"
     ]
    }
   ],
   "source": [
    "from keras.layers import Dense\n",
    "#Vamos agora \"brincar\" de adicionar as camadas\n",
    "#Adicionando a camada de entrada\n",
    "mlp.add(Dense(activation = 'tanh', input_dim = 8, units = 8, kernel_initializer = 'random_uniform', bias_initializer='zeros'))\n",
    "#Adicionando a camada escondida\n",
    "mlp.add(Dense(activation = 'tanh', units = 8, kernel_initializer = 'random_uniform', bias_initializer='zeros'))\n",
    "#Adicionando a camada de saída\n",
    "mlp.add(Dense(units = 1, kernel_initializer = 'random_uniform', bias_initializer='zeros'))\n",
    "# Compilando o modelo\n",
    "mlp.compile(loss='mean_squared_error', optimizer = 'adam', metrics= ['mae'])"
   ]
  },
  {
   "cell_type": "markdown",
   "metadata": {
    "colab_type": "text",
    "id": "rwCWmFVMFDRC"
   },
   "source": [
    "# Achou um trabalho árduo? Bom, de todo modo, já chegou ao fim. Agora vamos treinar!"
   ]
  },
  {
   "cell_type": "code",
   "execution_count": 17,
   "metadata": {
    "colab": {
     "base_uri": "https://localhost:8080/",
     "height": 13634
    },
    "colab_type": "code",
    "id": "S57RkwBVFK8J",
    "outputId": "8cc776a1-3135-4c41-97a2-237428d8239f"
   },
   "outputs": [
    {
     "name": "stdout",
     "output_type": "stream",
     "text": [
      "WARNING:tensorflow:From /home/gilvandro/anaconda3/lib/python3.6/site-packages/tensorflow/python/ops/math_ops.py:3066: to_int32 (from tensorflow.python.ops.math_ops) is deprecated and will be removed in a future version.\n",
      "Instructions for updating:\n",
      "Use tf.cast instead.\n",
      "Epoch 1/200\n",
      "3714/3714 [==============================] - 1s 258us/step - loss: 571.3855 - mean_absolute_error: 23.4389\n",
      "Epoch 2/200\n",
      "3714/3714 [==============================] - 0s 49us/step - loss: 486.4187 - mean_absolute_error: 21.5472\n",
      "Epoch 3/200\n",
      "3714/3714 [==============================] - 0s 52us/step - loss: 422.7082 - mean_absolute_error: 20.0191\n",
      "Epoch 4/200\n",
      "3714/3714 [==============================] - 0s 63us/step - loss: 375.3840 - mean_absolute_error: 18.8004\n",
      "Epoch 5/200\n",
      "3714/3714 [==============================] - 0s 58us/step - loss: 335.1619 - mean_absolute_error: 17.6972\n",
      "Epoch 6/200\n",
      "3714/3714 [==============================] - 0s 58us/step - loss: 299.6132 - mean_absolute_error: 16.6666\n",
      "Epoch 7/200\n",
      "3714/3714 [==============================] - 0s 53us/step - loss: 267.8787 - mean_absolute_error: 15.6815\n",
      "Epoch 8/200\n",
      "3714/3714 [==============================] - 0s 64us/step - loss: 239.2052 - mean_absolute_error: 14.7417\n",
      "Epoch 9/200\n",
      "3714/3714 [==============================] - 0s 66us/step - loss: 213.2660 - mean_absolute_error: 13.8393\n",
      "Epoch 10/200\n",
      "3714/3714 [==============================] - 0s 52us/step - loss: 189.9345 - mean_absolute_error: 12.9699\n",
      "Epoch 11/200\n",
      "3714/3714 [==============================] - 0s 54us/step - loss: 168.8193 - mean_absolute_error: 12.1338\n",
      "Epoch 12/200\n",
      "3714/3714 [==============================] - 0s 56us/step - loss: 149.8284 - mean_absolute_error: 11.3315\n",
      "Epoch 13/200\n",
      "3714/3714 [==============================] - 0s 54us/step - loss: 132.6880 - mean_absolute_error: 10.5629\n",
      "Epoch 14/200\n",
      "3714/3714 [==============================] - 0s 54us/step - loss: 117.3882 - mean_absolute_error: 9.8383\n",
      "Epoch 15/200\n",
      "3714/3714 [==============================] - 0s 53us/step - loss: 103.7440 - mean_absolute_error: 9.1487\n",
      "Epoch 16/200\n",
      "3714/3714 [==============================] - 0s 58us/step - loss: 91.6167 - mean_absolute_error: 8.5006\n",
      "Epoch 17/200\n",
      "3714/3714 [==============================] - 0s 58us/step - loss: 80.9189 - mean_absolute_error: 7.9059\n",
      "Epoch 18/200\n",
      "3714/3714 [==============================] - 0s 61us/step - loss: 71.5102 - mean_absolute_error: 7.3555\n",
      "Epoch 19/200\n",
      "3714/3714 [==============================] - 0s 55us/step - loss: 63.2832 - mean_absolute_error: 6.8620\n",
      "Epoch 20/200\n",
      "3714/3714 [==============================] - 0s 51us/step - loss: 56.0754 - mean_absolute_error: 6.4105\n",
      "Epoch 21/200\n",
      "3714/3714 [==============================] - 0s 54us/step - loss: 49.8911 - mean_absolute_error: 6.0098\n",
      "Epoch 22/200\n",
      "3714/3714 [==============================] - 0s 53us/step - loss: 44.6278 - mean_absolute_error: 5.6569\n",
      "Epoch 23/200\n",
      "3714/3714 [==============================] - 0s 56us/step - loss: 40.1358 - mean_absolute_error: 5.3438\n",
      "Epoch 24/200\n",
      "3714/3714 [==============================] - 0s 54us/step - loss: 36.4002 - mean_absolute_error: 5.0709\n",
      "Epoch 25/200\n",
      "3714/3714 [==============================] - 0s 54us/step - loss: 33.2747 - mean_absolute_error: 4.8394\n",
      "Epoch 26/200\n",
      "3714/3714 [==============================] - 0s 53us/step - loss: 30.7395 - mean_absolute_error: 4.6416\n",
      "Epoch 27/200\n",
      "3714/3714 [==============================] - 0s 55us/step - loss: 28.6591 - mean_absolute_error: 4.4757\n",
      "Epoch 28/200\n",
      "3714/3714 [==============================] - 0s 56us/step - loss: 26.9729 - mean_absolute_error: 4.3403\n",
      "Epoch 29/200\n",
      "3714/3714 [==============================] - 0s 57us/step - loss: 25.6347 - mean_absolute_error: 4.2267\n",
      "Epoch 30/200\n",
      "3714/3714 [==============================] - 0s 60us/step - loss: 24.5444 - mean_absolute_error: 4.1313\n",
      "Epoch 31/200\n",
      "3714/3714 [==============================] - 0s 63us/step - loss: 23.6283 - mean_absolute_error: 4.0453\n",
      "Epoch 32/200\n",
      "3714/3714 [==============================] - 0s 66us/step - loss: 22.8390 - mean_absolute_error: 3.9742\n",
      "Epoch 33/200\n",
      "3714/3714 [==============================] - 0s 59us/step - loss: 22.2065 - mean_absolute_error: 3.9153\n",
      "Epoch 34/200\n",
      "3714/3714 [==============================] - 0s 55us/step - loss: 21.6094 - mean_absolute_error: 3.8583\n",
      "Epoch 35/200\n",
      "3714/3714 [==============================] - 0s 55us/step - loss: 19.6804 - mean_absolute_error: 3.6728\n",
      "Epoch 36/200\n",
      "3714/3714 [==============================] - 0s 56us/step - loss: 16.8140 - mean_absolute_error: 3.3049\n",
      "Epoch 37/200\n",
      "3714/3714 [==============================] - 0s 52us/step - loss: 14.9209 - mean_absolute_error: 3.1017\n",
      "Epoch 38/200\n",
      "3714/3714 [==============================] - 0s 54us/step - loss: 13.2821 - mean_absolute_error: 2.9091\n",
      "Epoch 39/200\n",
      "3714/3714 [==============================] - 0s 51us/step - loss: 11.6674 - mean_absolute_error: 2.6992\n",
      "Epoch 40/200\n",
      "3714/3714 [==============================] - 0s 51us/step - loss: 10.0254 - mean_absolute_error: 2.4704\n",
      "Epoch 41/200\n",
      "3714/3714 [==============================] - 0s 58us/step - loss: 8.4476 - mean_absolute_error: 2.2323\n",
      "Epoch 42/200\n",
      "3714/3714 [==============================] - 0s 57us/step - loss: 7.0709 - mean_absolute_error: 2.0220\n",
      "Epoch 43/200\n",
      "3714/3714 [==============================] - 0s 58us/step - loss: 6.0652 - mean_absolute_error: 1.8631\n",
      "Epoch 44/200\n",
      "3714/3714 [==============================] - 0s 53us/step - loss: 5.3302 - mean_absolute_error: 1.7445\n",
      "Epoch 45/200\n",
      "3714/3714 [==============================] - 0s 55us/step - loss: 4.7627 - mean_absolute_error: 1.6467\n",
      "Epoch 46/200\n",
      "3714/3714 [==============================] - 0s 55us/step - loss: 4.3246 - mean_absolute_error: 1.5762\n",
      "Epoch 47/200\n",
      "3714/3714 [==============================] - 0s 49us/step - loss: 3.9517 - mean_absolute_error: 1.5086\n",
      "Epoch 48/200\n",
      "3714/3714 [==============================] - 0s 53us/step - loss: 3.6484 - mean_absolute_error: 1.4515\n",
      "Epoch 49/200\n",
      "3714/3714 [==============================] - 0s 55us/step - loss: 3.3859 - mean_absolute_error: 1.3996\n",
      "Epoch 50/200\n",
      "3714/3714 [==============================] - 0s 62us/step - loss: 3.1617 - mean_absolute_error: 1.3544\n",
      "Epoch 51/200\n",
      "3714/3714 [==============================] - 0s 55us/step - loss: 2.9599 - mean_absolute_error: 1.3143\n",
      "Epoch 52/200\n",
      "3714/3714 [==============================] - 0s 54us/step - loss: 2.7798 - mean_absolute_error: 1.2716\n",
      "Epoch 53/200\n",
      "3714/3714 [==============================] - 0s 53us/step - loss: 2.6221 - mean_absolute_error: 1.2391\n",
      "Epoch 54/200\n",
      "3714/3714 [==============================] - 0s 52us/step - loss: 2.4663 - mean_absolute_error: 1.2003\n",
      "Epoch 55/200\n",
      "3714/3714 [==============================] - 0s 50us/step - loss: 2.3281 - mean_absolute_error: 1.1691\n",
      "Epoch 56/200\n",
      "3714/3714 [==============================] - 0s 52us/step - loss: 2.2046 - mean_absolute_error: 1.1351\n",
      "Epoch 57/200\n",
      "3714/3714 [==============================] - 0s 52us/step - loss: 2.0917 - mean_absolute_error: 1.1055\n",
      "Epoch 58/200\n",
      "3714/3714 [==============================] - 0s 51us/step - loss: 1.9917 - mean_absolute_error: 1.0810\n",
      "Epoch 59/200\n",
      "3714/3714 [==============================] - 0s 53us/step - loss: 1.8993 - mean_absolute_error: 1.0548\n",
      "Epoch 60/200\n",
      "3714/3714 [==============================] - 0s 53us/step - loss: 1.8146 - mean_absolute_error: 1.0311\n",
      "Epoch 61/200\n",
      "3714/3714 [==============================] - 0s 52us/step - loss: 1.7427 - mean_absolute_error: 1.0134\n",
      "Epoch 62/200\n",
      "3714/3714 [==============================] - 0s 52us/step - loss: 1.6719 - mean_absolute_error: 0.9906\n",
      "Epoch 63/200\n",
      "3714/3714 [==============================] - 0s 52us/step - loss: 1.6147 - mean_absolute_error: 0.9760\n",
      "Epoch 64/200\n",
      "3714/3714 [==============================] - 0s 54us/step - loss: 1.5605 - mean_absolute_error: 0.9595\n",
      "Epoch 65/200\n",
      "3714/3714 [==============================] - 0s 50us/step - loss: 1.5152 - mean_absolute_error: 0.9449\n",
      "Epoch 66/200\n",
      "3714/3714 [==============================] - 0s 50us/step - loss: 1.4774 - mean_absolute_error: 0.9349\n",
      "Epoch 67/200\n",
      "3714/3714 [==============================] - 0s 49us/step - loss: 1.4393 - mean_absolute_error: 0.9234\n",
      "Epoch 68/200\n"
     ]
    },
    {
     "name": "stdout",
     "output_type": "stream",
     "text": [
      "3714/3714 [==============================] - 0s 54us/step - loss: 1.4138 - mean_absolute_error: 0.9163\n",
      "Epoch 69/200\n",
      "3714/3714 [==============================] - 0s 55us/step - loss: 1.3854 - mean_absolute_error: 0.9084\n",
      "Epoch 70/200\n",
      "3714/3714 [==============================] - 0s 55us/step - loss: 1.3620 - mean_absolute_error: 0.8992\n",
      "Epoch 71/200\n",
      "3714/3714 [==============================] - 0s 51us/step - loss: 1.3470 - mean_absolute_error: 0.8985\n",
      "Epoch 72/200\n",
      "3714/3714 [==============================] - 0s 50us/step - loss: 1.3275 - mean_absolute_error: 0.8909\n",
      "Epoch 73/200\n",
      "3714/3714 [==============================] - 0s 51us/step - loss: 1.3033 - mean_absolute_error: 0.8830\n",
      "Epoch 74/200\n",
      "3714/3714 [==============================] - 0s 50us/step - loss: 1.2972 - mean_absolute_error: 0.8793\n",
      "Epoch 75/200\n",
      "3714/3714 [==============================] - 0s 49us/step - loss: 1.2838 - mean_absolute_error: 0.8783\n",
      "Epoch 76/200\n",
      "3714/3714 [==============================] - 0s 49us/step - loss: 1.2715 - mean_absolute_error: 0.8727\n",
      "Epoch 77/200\n",
      "3714/3714 [==============================] - 0s 50us/step - loss: 1.2614 - mean_absolute_error: 0.8709\n",
      "Epoch 78/200\n",
      "3714/3714 [==============================] - 0s 53us/step - loss: 1.2586 - mean_absolute_error: 0.8699\n",
      "Epoch 79/200\n",
      "3714/3714 [==============================] - 0s 57us/step - loss: 1.2395 - mean_absolute_error: 0.8639\n",
      "Epoch 80/200\n",
      "3714/3714 [==============================] - 0s 57us/step - loss: 1.2309 - mean_absolute_error: 0.8629\n",
      "Epoch 81/200\n",
      "3714/3714 [==============================] - 0s 53us/step - loss: 1.2279 - mean_absolute_error: 0.8583\n",
      "Epoch 82/200\n",
      "3714/3714 [==============================] - 0s 52us/step - loss: 1.2213 - mean_absolute_error: 0.8563\n",
      "Epoch 83/200\n",
      "3714/3714 [==============================] - 0s 48us/step - loss: 1.2130 - mean_absolute_error: 0.8520\n",
      "Epoch 84/200\n",
      "3714/3714 [==============================] - 0s 51us/step - loss: 1.2125 - mean_absolute_error: 0.8542\n",
      "Epoch 85/200\n",
      "3714/3714 [==============================] - 0s 52us/step - loss: 1.2059 - mean_absolute_error: 0.8491\n",
      "Epoch 86/200\n",
      "3714/3714 [==============================] - 0s 50us/step - loss: 1.1919 - mean_absolute_error: 0.8483\n",
      "Epoch 87/200\n",
      "3714/3714 [==============================] - 0s 51us/step - loss: 1.1866 - mean_absolute_error: 0.8453\n",
      "Epoch 88/200\n",
      "3714/3714 [==============================] - 0s 54us/step - loss: 1.1947 - mean_absolute_error: 0.8487\n",
      "Epoch 89/200\n",
      "3714/3714 [==============================] - 0s 56us/step - loss: 1.1816 - mean_absolute_error: 0.8446\n",
      "Epoch 90/200\n",
      "3714/3714 [==============================] - 0s 54us/step - loss: 1.1903 - mean_absolute_error: 0.8455\n",
      "Epoch 91/200\n",
      "3714/3714 [==============================] - 0s 45us/step - loss: 1.1771 - mean_absolute_error: 0.8424\n",
      "Epoch 92/200\n",
      "3714/3714 [==============================] - 0s 39us/step - loss: 1.1703 - mean_absolute_error: 0.8387\n",
      "Epoch 93/200\n",
      "3714/3714 [==============================] - 0s 40us/step - loss: 1.1735 - mean_absolute_error: 0.8406\n",
      "Epoch 94/200\n",
      "3714/3714 [==============================] - 0s 46us/step - loss: 1.1583 - mean_absolute_error: 0.8369\n",
      "Epoch 95/200\n",
      "3714/3714 [==============================] - 0s 41us/step - loss: 1.1552 - mean_absolute_error: 0.8337\n",
      "Epoch 96/200\n",
      "3714/3714 [==============================] - 0s 43us/step - loss: 1.1499 - mean_absolute_error: 0.8302\n",
      "Epoch 97/200\n",
      "3714/3714 [==============================] - 0s 49us/step - loss: 1.1457 - mean_absolute_error: 0.8297\n",
      "Epoch 98/200\n",
      "3714/3714 [==============================] - 0s 51us/step - loss: 1.1492 - mean_absolute_error: 0.8296\n",
      "Epoch 99/200\n",
      "3714/3714 [==============================] - 0s 47us/step - loss: 1.1454 - mean_absolute_error: 0.8286\n",
      "Epoch 100/200\n",
      "3714/3714 [==============================] - 0s 41us/step - loss: 1.1473 - mean_absolute_error: 0.8291\n",
      "Epoch 101/200\n",
      "3714/3714 [==============================] - 0s 41us/step - loss: 1.1342 - mean_absolute_error: 0.8254\n",
      "Epoch 102/200\n",
      "3714/3714 [==============================] - 0s 51us/step - loss: 1.1294 - mean_absolute_error: 0.8228\n",
      "Epoch 103/200\n",
      "3714/3714 [==============================] - 0s 48us/step - loss: 1.1343 - mean_absolute_error: 0.8253\n",
      "Epoch 104/200\n",
      "3714/3714 [==============================] - 0s 39us/step - loss: 1.1314 - mean_absolute_error: 0.8222\n",
      "Epoch 105/200\n",
      "3714/3714 [==============================] - 0s 41us/step - loss: 1.1186 - mean_absolute_error: 0.8187\n",
      "Epoch 106/200\n",
      "3714/3714 [==============================] - 0s 45us/step - loss: 1.1289 - mean_absolute_error: 0.8205\n",
      "Epoch 107/200\n",
      "3714/3714 [==============================] - 0s 46us/step - loss: 1.1248 - mean_absolute_error: 0.8221\n",
      "Epoch 108/200\n",
      "3714/3714 [==============================] - 0s 50us/step - loss: 1.1143 - mean_absolute_error: 0.8168\n",
      "Epoch 109/200\n",
      "3714/3714 [==============================] - 0s 51us/step - loss: 1.1126 - mean_absolute_error: 0.8159\n",
      "Epoch 110/200\n",
      "3714/3714 [==============================] - 0s 50us/step - loss: 1.1137 - mean_absolute_error: 0.8153\n",
      "Epoch 111/200\n",
      "3714/3714 [==============================] - 0s 51us/step - loss: 1.1173 - mean_absolute_error: 0.8171\n",
      "Epoch 112/200\n",
      "3714/3714 [==============================] - 0s 55us/step - loss: 1.1097 - mean_absolute_error: 0.8131\n",
      "Epoch 113/200\n",
      "3714/3714 [==============================] - 0s 63us/step - loss: 1.1098 - mean_absolute_error: 0.8123\n",
      "Epoch 114/200\n",
      "3714/3714 [==============================] - 0s 75us/step - loss: 1.1082 - mean_absolute_error: 0.8147\n",
      "Epoch 115/200\n",
      "3714/3714 [==============================] - 0s 69us/step - loss: 1.1058 - mean_absolute_error: 0.8105\n",
      "Epoch 116/200\n",
      "3714/3714 [==============================] - 0s 80us/step - loss: 1.1046 - mean_absolute_error: 0.8131\n",
      "Epoch 117/200\n",
      "3714/3714 [==============================] - 0s 60us/step - loss: 1.1145 - mean_absolute_error: 0.8163\n",
      "Epoch 118/200\n",
      "3714/3714 [==============================] - 0s 60us/step - loss: 1.1008 - mean_absolute_error: 0.8097\n",
      "Epoch 119/200\n",
      "3714/3714 [==============================] - 0s 62us/step - loss: 1.1021 - mean_absolute_error: 0.8129\n",
      "Epoch 120/200\n",
      "3714/3714 [==============================] - 0s 61us/step - loss: 1.0994 - mean_absolute_error: 0.8093\n",
      "Epoch 121/200\n",
      "3714/3714 [==============================] - 0s 54us/step - loss: 1.0994 - mean_absolute_error: 0.8100\n",
      "Epoch 122/200\n",
      "3714/3714 [==============================] - 0s 59us/step - loss: 1.1084 - mean_absolute_error: 0.8141\n",
      "Epoch 123/200\n",
      "3714/3714 [==============================] - 0s 55us/step - loss: 1.0904 - mean_absolute_error: 0.8035\n",
      "Epoch 124/200\n",
      "3714/3714 [==============================] - 0s 57us/step - loss: 1.0955 - mean_absolute_error: 0.8103\n",
      "Epoch 125/200\n",
      "3714/3714 [==============================] - 0s 57us/step - loss: 1.0983 - mean_absolute_error: 0.8101\n",
      "Epoch 126/200\n",
      "3714/3714 [==============================] - 0s 58us/step - loss: 1.1045 - mean_absolute_error: 0.8136\n",
      "Epoch 127/200\n",
      "3714/3714 [==============================] - 0s 54us/step - loss: 1.0963 - mean_absolute_error: 0.8107\n",
      "Epoch 128/200\n",
      "3714/3714 [==============================] - 0s 55us/step - loss: 1.0926 - mean_absolute_error: 0.8056\n",
      "Epoch 129/200\n",
      "3714/3714 [==============================] - 0s 56us/step - loss: 1.0867 - mean_absolute_error: 0.8050\n",
      "Epoch 130/200\n",
      "3714/3714 [==============================] - 0s 57us/step - loss: 1.0956 - mean_absolute_error: 0.8090\n",
      "Epoch 131/200\n",
      "3714/3714 [==============================] - 0s 55us/step - loss: 1.0846 - mean_absolute_error: 0.8049\n",
      "Epoch 132/200\n",
      "3714/3714 [==============================] - 0s 56us/step - loss: 1.0872 - mean_absolute_error: 0.8065\n",
      "Epoch 133/200\n",
      "3714/3714 [==============================] - 0s 52us/step - loss: 1.0830 - mean_absolute_error: 0.8046\n",
      "Epoch 134/200\n",
      "3714/3714 [==============================] - 0s 53us/step - loss: 1.0859 - mean_absolute_error: 0.8057\n",
      "Epoch 135/200\n",
      "3714/3714 [==============================] - 0s 54us/step - loss: 1.0891 - mean_absolute_error: 0.8062\n",
      "Epoch 136/200\n",
      "3714/3714 [==============================] - 0s 53us/step - loss: 1.0861 - mean_absolute_error: 0.8057\n",
      "Epoch 137/200\n",
      "3714/3714 [==============================] - 0s 58us/step - loss: 1.0864 - mean_absolute_error: 0.8038\n",
      "Epoch 138/200\n"
     ]
    },
    {
     "name": "stdout",
     "output_type": "stream",
     "text": [
      "3714/3714 [==============================] - 0s 55us/step - loss: 1.1074 - mean_absolute_error: 0.8154\n",
      "Epoch 139/200\n",
      "3714/3714 [==============================] - 0s 53us/step - loss: 1.0909 - mean_absolute_error: 0.8107\n",
      "Epoch 140/200\n",
      "3714/3714 [==============================] - 0s 54us/step - loss: 1.0869 - mean_absolute_error: 0.8040\n",
      "Epoch 141/200\n",
      "3714/3714 [==============================] - 0s 52us/step - loss: 1.0828 - mean_absolute_error: 0.8037\n",
      "Epoch 142/200\n",
      "3714/3714 [==============================] - 0s 55us/step - loss: 1.0866 - mean_absolute_error: 0.8041\n",
      "Epoch 143/200\n",
      "3714/3714 [==============================] - 0s 52us/step - loss: 1.0866 - mean_absolute_error: 0.8057\n",
      "Epoch 144/200\n",
      "3714/3714 [==============================] - 0s 51us/step - loss: 1.0807 - mean_absolute_error: 0.8007\n",
      "Epoch 145/200\n",
      "3714/3714 [==============================] - 0s 52us/step - loss: 1.0866 - mean_absolute_error: 0.8051\n",
      "Epoch 146/200\n",
      "3714/3714 [==============================] - 0s 51us/step - loss: 1.0826 - mean_absolute_error: 0.8033\n",
      "Epoch 147/200\n",
      "3714/3714 [==============================] - 0s 53us/step - loss: 1.0808 - mean_absolute_error: 0.8030\n",
      "Epoch 148/200\n",
      "3714/3714 [==============================] - 0s 55us/step - loss: 1.0827 - mean_absolute_error: 0.8044\n",
      "Epoch 149/200\n",
      "3714/3714 [==============================] - 0s 56us/step - loss: 1.0779 - mean_absolute_error: 0.8030\n",
      "Epoch 150/200\n",
      "3714/3714 [==============================] - 0s 53us/step - loss: 1.0869 - mean_absolute_error: 0.8063\n",
      "Epoch 151/200\n",
      "3714/3714 [==============================] - 0s 56us/step - loss: 1.0784 - mean_absolute_error: 0.8022\n",
      "Epoch 152/200\n",
      "3714/3714 [==============================] - 0s 53us/step - loss: 1.0789 - mean_absolute_error: 0.8025\n",
      "Epoch 153/200\n",
      "3714/3714 [==============================] - 0s 53us/step - loss: 1.0780 - mean_absolute_error: 0.8034\n",
      "Epoch 154/200\n",
      "3714/3714 [==============================] - 0s 54us/step - loss: 1.0787 - mean_absolute_error: 0.8008\n",
      "Epoch 155/200\n",
      "3714/3714 [==============================] - 0s 57us/step - loss: 1.0753 - mean_absolute_error: 0.8021\n",
      "Epoch 156/200\n",
      "3714/3714 [==============================] - 0s 54us/step - loss: 1.0726 - mean_absolute_error: 0.8022\n",
      "Epoch 157/200\n",
      "3714/3714 [==============================] - 0s 52us/step - loss: 1.0802 - mean_absolute_error: 0.8051\n",
      "Epoch 158/200\n",
      "3714/3714 [==============================] - 0s 55us/step - loss: 1.0783 - mean_absolute_error: 0.8040\n",
      "Epoch 159/200\n",
      "3714/3714 [==============================] - 0s 57us/step - loss: 1.0841 - mean_absolute_error: 0.8039\n",
      "Epoch 160/200\n",
      "3714/3714 [==============================] - 0s 54us/step - loss: 1.0803 - mean_absolute_error: 0.8049\n",
      "Epoch 161/200\n",
      "3714/3714 [==============================] - 0s 55us/step - loss: 1.0758 - mean_absolute_error: 0.8018\n",
      "Epoch 162/200\n",
      "3714/3714 [==============================] - 0s 55us/step - loss: 1.0722 - mean_absolute_error: 0.7992\n",
      "Epoch 163/200\n",
      "3714/3714 [==============================] - 0s 54us/step - loss: 1.0669 - mean_absolute_error: 0.7987\n",
      "Epoch 164/200\n",
      "3714/3714 [==============================] - 0s 55us/step - loss: 1.0715 - mean_absolute_error: 0.8005\n",
      "Epoch 165/200\n",
      "3714/3714 [==============================] - 0s 51us/step - loss: 1.0743 - mean_absolute_error: 0.8007\n",
      "Epoch 166/200\n",
      "3714/3714 [==============================] - 0s 54us/step - loss: 1.0726 - mean_absolute_error: 0.7992\n",
      "Epoch 167/200\n",
      "3714/3714 [==============================] - 0s 54us/step - loss: 1.0715 - mean_absolute_error: 0.7997\n",
      "Epoch 168/200\n",
      "3714/3714 [==============================] - 0s 53us/step - loss: 1.0865 - mean_absolute_error: 0.8052\n",
      "Epoch 169/200\n",
      "3714/3714 [==============================] - 0s 53us/step - loss: 1.0728 - mean_absolute_error: 0.8019\n",
      "Epoch 170/200\n",
      "3714/3714 [==============================] - 0s 54us/step - loss: 1.0690 - mean_absolute_error: 0.7984\n",
      "Epoch 171/200\n",
      "3714/3714 [==============================] - 0s 54us/step - loss: 1.0758 - mean_absolute_error: 0.8029\n",
      "Epoch 172/200\n",
      "3714/3714 [==============================] - 0s 53us/step - loss: 1.0712 - mean_absolute_error: 0.8000\n",
      "Epoch 173/200\n",
      "3714/3714 [==============================] - 0s 52us/step - loss: 1.0714 - mean_absolute_error: 0.7999\n",
      "Epoch 174/200\n",
      "3714/3714 [==============================] - 0s 54us/step - loss: 1.0641 - mean_absolute_error: 0.7957\n",
      "Epoch 175/200\n",
      "3714/3714 [==============================] - 0s 55us/step - loss: 1.0685 - mean_absolute_error: 0.7979\n",
      "Epoch 176/200\n",
      "3714/3714 [==============================] - 0s 53us/step - loss: 1.0736 - mean_absolute_error: 0.8015\n",
      "Epoch 177/200\n",
      "3714/3714 [==============================] - 0s 54us/step - loss: 1.0727 - mean_absolute_error: 0.7989\n",
      "Epoch 178/200\n",
      "3714/3714 [==============================] - 0s 56us/step - loss: 1.0782 - mean_absolute_error: 0.8010\n",
      "Epoch 179/200\n",
      "3714/3714 [==============================] - 0s 53us/step - loss: 1.0773 - mean_absolute_error: 0.8028\n",
      "Epoch 180/200\n",
      "3714/3714 [==============================] - 0s 55us/step - loss: 1.0694 - mean_absolute_error: 0.8001\n",
      "Epoch 181/200\n",
      "3714/3714 [==============================] - 0s 55us/step - loss: 1.0713 - mean_absolute_error: 0.7998\n",
      "Epoch 182/200\n",
      "3714/3714 [==============================] - 0s 55us/step - loss: 1.0703 - mean_absolute_error: 0.8012\n",
      "Epoch 183/200\n",
      "3714/3714 [==============================] - 0s 52us/step - loss: 1.0896 - mean_absolute_error: 0.8060\n",
      "Epoch 184/200\n",
      "3714/3714 [==============================] - 0s 55us/step - loss: 1.0867 - mean_absolute_error: 0.8052\n",
      "Epoch 185/200\n",
      "3714/3714 [==============================] - 0s 52us/step - loss: 1.0680 - mean_absolute_error: 0.7967\n",
      "Epoch 186/200\n",
      "3714/3714 [==============================] - 0s 53us/step - loss: 1.0663 - mean_absolute_error: 0.7976\n",
      "Epoch 187/200\n",
      "3714/3714 [==============================] - 0s 57us/step - loss: 1.0684 - mean_absolute_error: 0.7985\n",
      "Epoch 188/200\n",
      "3714/3714 [==============================] - 0s 59us/step - loss: 1.0724 - mean_absolute_error: 0.8021\n",
      "Epoch 189/200\n",
      "3714/3714 [==============================] - 0s 64us/step - loss: 1.0667 - mean_absolute_error: 0.7967\n",
      "Epoch 190/200\n",
      "3714/3714 [==============================] - 0s 66us/step - loss: 1.0770 - mean_absolute_error: 0.8036\n",
      "Epoch 191/200\n",
      "3714/3714 [==============================] - 0s 64us/step - loss: 1.0803 - mean_absolute_error: 0.8046\n",
      "Epoch 192/200\n",
      "3714/3714 [==============================] - 0s 64us/step - loss: 1.0627 - mean_absolute_error: 0.7970\n",
      "Epoch 193/200\n",
      "3714/3714 [==============================] - 0s 54us/step - loss: 1.0636 - mean_absolute_error: 0.7946\n",
      "Epoch 194/200\n",
      "3714/3714 [==============================] - 0s 54us/step - loss: 1.0629 - mean_absolute_error: 0.7968\n",
      "Epoch 195/200\n",
      "3714/3714 [==============================] - 0s 51us/step - loss: 1.0653 - mean_absolute_error: 0.7983\n",
      "Epoch 196/200\n",
      "3714/3714 [==============================] - 0s 54us/step - loss: 1.0663 - mean_absolute_error: 0.7972\n",
      "Epoch 197/200\n",
      "3714/3714 [==============================] - 0s 59us/step - loss: 1.0676 - mean_absolute_error: 0.8006\n",
      "Epoch 198/200\n",
      "3714/3714 [==============================] - 0s 54us/step - loss: 1.0659 - mean_absolute_error: 0.7972\n",
      "Epoch 199/200\n",
      "3714/3714 [==============================] - 0s 58us/step - loss: 1.0686 - mean_absolute_error: 0.7988\n",
      "Epoch 200/200\n",
      "3714/3714 [==============================] - 0s 59us/step - loss: 1.0653 - mean_absolute_error: 0.7985\n"
     ]
    },
    {
     "data": {
      "text/plain": [
       "<keras.callbacks.History at 0x7fee18762c50>"
      ]
     },
     "execution_count": 17,
     "metadata": {},
     "output_type": "execute_result"
    }
   ],
   "source": [
    "#A hora da verdade\n",
    "mlp.fit(x = X_train, y = y_train, epochs = 200, verbose=1)"
   ]
  },
  {
   "cell_type": "code",
   "execution_count": 18,
   "metadata": {
    "colab": {},
    "colab_type": "code",
    "id": "PNL9R7BCHT-z"
   },
   "outputs": [],
   "source": [
    "#Prevendo os valores de temperatura para o conjunto de teste\n",
    "y_pred = mlp.predict(X_test)"
   ]
  },
  {
   "cell_type": "code",
   "execution_count": 19,
   "metadata": {
    "colab": {
     "base_uri": "https://localhost:8080/",
     "height": 295
    },
    "colab_type": "code",
    "id": "VK7jL8RSE3eV",
    "outputId": "23ccb5fa-6462-4288-9a49-f484da313d7a"
   },
   "outputs": [
    {
     "data": {
      "image/png": "[encoded data removed]",
      "text/plain": [
       "<Figure size 432x288 with 1 Axes>"
      ]
     },
     "metadata": {
      "needs_background": "light"
     },
     "output_type": "display_data"
    }
   ],
   "source": [
    "#Vamos primeiro validar o aprendizado graficamente\n",
    "plt.scatter(y_pred, y_test)\n",
    "plt.title(\"Temperatura máxima estimada para o conjunto de teste\")\n",
    "plt.xlabel(\"Temperatura estimada\")\n",
    "plt.ylabel(\"Temperatura real\")\n",
    "plt.show()"
   ]
  },
  {
   "cell_type": "code",
   "execution_count": 20,
   "metadata": {
    "colab": {
     "base_uri": "https://localhost:8080/",
     "height": 34
    },
    "colab_type": "code",
    "id": "UihUGSZbDDmK",
    "outputId": "b33c2cfa-42d5-4d67-9f12-ceca10422147"
   },
   "outputs": [
    {
     "name": "stdout",
     "output_type": "stream",
     "text": [
      "0.8205361322129889\n"
     ]
    }
   ],
   "source": [
    "from sklearn.metrics import mean_absolute_error\n",
    "#Erro absoluto médio entre a temperatura máxima prevista e a real\n",
    "print(mean_absolute_error(y_pred, y_test))"
   ]
  },
  {
   "cell_type": "code",
   "execution_count": 21,
   "metadata": {
    "colab": {
     "base_uri": "https://localhost:8080/",
     "height": 34
    },
    "colab_type": "code",
    "id": "nNB6thyrHPxR",
    "outputId": "c9be2655-daf3-4ba5-a79e-0327d0ff399c"
   },
   "outputs": [
    {
     "name": "stdout",
     "output_type": "stream",
     "text": [
      "1.1499513316737313\n"
     ]
    }
   ],
   "source": [
    "from sklearn.metrics import mean_squared_error\n",
    "#Erro quadrático médio entre a temperatura máxima prevista e a real\n",
    "print(mean_squared_error(y_pred, y_test))"
   ]
  },
  {
   "cell_type": "markdown",
   "metadata": {},
   "source": [
    "<font size=\"5\" color=\"black\"> Um Jupyter-Notebook escrito por <b> Gilvandro César de Medeiros </b> sob a orientação do Professor <b> Orivaldo Vieira de Santana Junior </b> </font>\n",
    "<br> Contatos:\n",
    "<br> Links para Github\n",
    "<br> Gilvandro - https://github.com/gilvandrocesardemedeiros\n",
    "<br> Orivaldo - https://github.com/orivaldosantana\n",
    "<br> Link para Linkedin \n",
    "<br> Gilvandro - https://www.linkedin.com/in/gilvandromedeiros/"
   ]
  }
 ],
 "metadata": {
  "colab": {
   "collapsed_sections": [
    "jEGvBC99aM2c"
   ],
   "name": "ConceitosMLP.ipynb",
   "provenance": [],
   "version": "0.3.2"
  },
  "kernelspec": {
   "display_name": "Python 3",
   "language": "python",
   "name": "python3"
  },
  "language_info": {
   "codemirror_mode": {
    "name": "ipython",
    "version": 3
   },
   "file_extension": ".py",
   "mimetype": "text/x-python",
   "name": "python",
   "nbconvert_exporter": "python",
   "pygments_lexer": "ipython3",
   "version": "3.6.8"
  }
 },
 "nbformat": 4,
 "nbformat_minor": 1
}
