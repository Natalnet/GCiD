{
 "cells": [
  {
   "cell_type": "markdown",
   "metadata": {},
   "source": [
    "# Agora que já aprendemos a trabalhar com leitura, tratamento simples e visualização de dados, podemos dar prosseguimento aos nossos estudos, introduzindo algumas técnicas de pré processamento e já aplicando nosso primeiro algoritmo de aprendizado de máquina!"
   ]
  },
  {
   "cell_type": "code",
   "execution_count": 1,
   "metadata": {},
   "outputs": [],
   "source": [
    "#Bibliotecas utilizadas\n",
    "import pandas as pd"
   ]
  },
  {
   "cell_type": "markdown",
   "metadata": {},
   "source": [
    "<h3> Explorando a base de dados que vamos trabalhar hoje: <br> \n",
    "\n",
    "https://github.com/Natalnet/GCiD/raw/master/Codes/Data/INMET-Dados_Diarios_PortoAlegre_1980-2017.csv"
   ]
  },
  {
   "cell_type": "code",
   "execution_count": 2,
   "metadata": {},
   "outputs": [],
   "source": [
    "#Leitura dos dados\n",
    "dataSet = pd.read_csv(\"https://github.com/Natalnet/GCiD/raw/master/Codes/Data/INMET-Dados_Diarios_PortoAlegre_1980-2017.csv\",\n",
    "                     skiprows = 16, sep = \";\")"
   ]
  },
  {
   "cell_type": "code",
   "execution_count": 3,
   "metadata": {},
   "outputs": [
    {
     "data": {
      "text/html": [
       "<div>\n",
       "<style scoped>\n",
       "    .dataframe tbody tr th:only-of-type {\n",
       "        vertical-align: middle;\n",
       "    }\n",
       "\n",
       "    .dataframe tbody tr th {\n",
       "        vertical-align: top;\n",
       "    }\n",
       "\n",
       "    .dataframe thead th {\n",
       "        text-align: right;\n",
       "    }\n",
       "</style>\n",
       "<table border=\"1\" class=\"dataframe\">\n",
       "  <thead>\n",
       "    <tr style=\"text-align: right;\">\n",
       "      <th></th>\n",
       "      <th>Estacao</th>\n",
       "      <th>Data</th>\n",
       "      <th>Hora</th>\n",
       "      <th>Precipitacao</th>\n",
       "      <th>TempMaxima</th>\n",
       "      <th>TempMinima</th>\n",
       "      <th>Insolacao</th>\n",
       "      <th>Evaporacao Piche</th>\n",
       "      <th>Temp Comp Media</th>\n",
       "      <th>Umidade Relativa Media</th>\n",
       "      <th>Velocidade do Vento Media</th>\n",
       "      <th>Unnamed: 11</th>\n",
       "    </tr>\n",
       "  </thead>\n",
       "  <tbody>\n",
       "    <tr>\n",
       "      <th>0</th>\n",
       "      <td>83967</td>\n",
       "      <td>01/01/1980</td>\n",
       "      <td>0</td>\n",
       "      <td>NaN</td>\n",
       "      <td>23.0</td>\n",
       "      <td>NaN</td>\n",
       "      <td>9.8</td>\n",
       "      <td>5.5</td>\n",
       "      <td>18.34</td>\n",
       "      <td>65.0</td>\n",
       "      <td>3.800000</td>\n",
       "      <td>NaN</td>\n",
       "    </tr>\n",
       "    <tr>\n",
       "      <th>1</th>\n",
       "      <td>83967</td>\n",
       "      <td>01/01/1980</td>\n",
       "      <td>1200</td>\n",
       "      <td>0.0</td>\n",
       "      <td>NaN</td>\n",
       "      <td>14.8</td>\n",
       "      <td>NaN</td>\n",
       "      <td>NaN</td>\n",
       "      <td>NaN</td>\n",
       "      <td>NaN</td>\n",
       "      <td>NaN</td>\n",
       "      <td>NaN</td>\n",
       "    </tr>\n",
       "    <tr>\n",
       "      <th>2</th>\n",
       "      <td>83967</td>\n",
       "      <td>02/01/1980</td>\n",
       "      <td>0</td>\n",
       "      <td>NaN</td>\n",
       "      <td>24.1</td>\n",
       "      <td>NaN</td>\n",
       "      <td>10.8</td>\n",
       "      <td>4.8</td>\n",
       "      <td>18.90</td>\n",
       "      <td>69.5</td>\n",
       "      <td>2.200000</td>\n",
       "      <td>NaN</td>\n",
       "    </tr>\n",
       "    <tr>\n",
       "      <th>3</th>\n",
       "      <td>83967</td>\n",
       "      <td>02/01/1980</td>\n",
       "      <td>1200</td>\n",
       "      <td>0.0</td>\n",
       "      <td>NaN</td>\n",
       "      <td>13.8</td>\n",
       "      <td>NaN</td>\n",
       "      <td>NaN</td>\n",
       "      <td>NaN</td>\n",
       "      <td>NaN</td>\n",
       "      <td>NaN</td>\n",
       "      <td>NaN</td>\n",
       "    </tr>\n",
       "    <tr>\n",
       "      <th>4</th>\n",
       "      <td>83967</td>\n",
       "      <td>03/01/1980</td>\n",
       "      <td>0</td>\n",
       "      <td>NaN</td>\n",
       "      <td>28.4</td>\n",
       "      <td>NaN</td>\n",
       "      <td>11.7</td>\n",
       "      <td>5.0</td>\n",
       "      <td>21.24</td>\n",
       "      <td>59.0</td>\n",
       "      <td>2.166667</td>\n",
       "      <td>NaN</td>\n",
       "    </tr>\n",
       "  </tbody>\n",
       "</table>\n",
       "</div>"
      ],
      "text/plain": [
       "   Estacao        Data  Hora  Precipitacao  TempMaxima  TempMinima  Insolacao  \\\n",
       "0    83967  01/01/1980     0           NaN        23.0         NaN        9.8   \n",
       "1    83967  01/01/1980  1200           0.0         NaN        14.8        NaN   \n",
       "2    83967  02/01/1980     0           NaN        24.1         NaN       10.8   \n",
       "3    83967  02/01/1980  1200           0.0         NaN        13.8        NaN   \n",
       "4    83967  03/01/1980     0           NaN        28.4         NaN       11.7   \n",
       "\n",
       "   Evaporacao Piche  Temp Comp Media  Umidade Relativa Media  \\\n",
       "0               5.5            18.34                    65.0   \n",
       "1               NaN              NaN                     NaN   \n",
       "2               4.8            18.90                    69.5   \n",
       "3               NaN              NaN                     NaN   \n",
       "4               5.0            21.24                    59.0   \n",
       "\n",
       "   Velocidade do Vento Media  Unnamed: 11  \n",
       "0                   3.800000          NaN  \n",
       "1                        NaN          NaN  \n",
       "2                   2.200000          NaN  \n",
       "3                        NaN          NaN  \n",
       "4                   2.166667          NaN  "
      ]
     },
     "execution_count": 3,
     "metadata": {},
     "output_type": "execute_result"
    }
   ],
   "source": [
    "#Visualizando cabeçalho\n",
    "dataSet.head()"
   ]
  },
  {
   "cell_type": "code",
   "execution_count": 4,
   "metadata": {},
   "outputs": [],
   "source": [
    "#Transformando data em variável do tipo datetime\n",
    "dataSet[\"Data\"] = pd.to_datetime(dataSet[\"Data\"], format = \"%d/%m/%Y\")"
   ]
  },
  {
   "cell_type": "code",
   "execution_count": 5,
   "metadata": {},
   "outputs": [],
   "source": [
    "#Atribuindo \"Data\" como índice para a base de dados\n",
    "dataSet = dataSet.set_index(\"Data\")"
   ]
  },
  {
   "cell_type": "code",
   "execution_count": 6,
   "metadata": {},
   "outputs": [],
   "source": [
    "#Eliminando colunas \"Unnamed\" e \"Estacao\"\n",
    "dataSet = dataSet.drop(columns = [\"Unnamed: 11\",\"Estacao\"])"
   ]
  },
  {
   "cell_type": "code",
   "execution_count": 7,
   "metadata": {},
   "outputs": [
    {
     "data": {
      "text/html": [
       "<div>\n",
       "<style scoped>\n",
       "    .dataframe tbody tr th:only-of-type {\n",
       "        vertical-align: middle;\n",
       "    }\n",
       "\n",
       "    .dataframe tbody tr th {\n",
       "        vertical-align: top;\n",
       "    }\n",
       "\n",
       "    .dataframe thead th {\n",
       "        text-align: right;\n",
       "    }\n",
       "</style>\n",
       "<table border=\"1\" class=\"dataframe\">\n",
       "  <thead>\n",
       "    <tr style=\"text-align: right;\">\n",
       "      <th></th>\n",
       "      <th>Hora</th>\n",
       "      <th>Precipitacao</th>\n",
       "      <th>TempMaxima</th>\n",
       "      <th>TempMinima</th>\n",
       "      <th>Insolacao</th>\n",
       "      <th>Evaporacao Piche</th>\n",
       "      <th>Temp Comp Media</th>\n",
       "      <th>Umidade Relativa Media</th>\n",
       "      <th>Velocidade do Vento Media</th>\n",
       "    </tr>\n",
       "  </thead>\n",
       "  <tbody>\n",
       "    <tr>\n",
       "      <th>count</th>\n",
       "      <td>24542.000000</td>\n",
       "      <td>12266.000000</td>\n",
       "      <td>12242.000000</td>\n",
       "      <td>12243.000000</td>\n",
       "      <td>12131.000000</td>\n",
       "      <td>11600.000000</td>\n",
       "      <td>12227.000000</td>\n",
       "      <td>12223.000000</td>\n",
       "      <td>12269.000000</td>\n",
       "    </tr>\n",
       "    <tr>\n",
       "      <th>mean</th>\n",
       "      <td>600.000000</td>\n",
       "      <td>3.959351</td>\n",
       "      <td>25.398268</td>\n",
       "      <td>15.728727</td>\n",
       "      <td>5.888220</td>\n",
       "      <td>2.432095</td>\n",
       "      <td>19.738193</td>\n",
       "      <td>76.451771</td>\n",
       "      <td>2.071611</td>\n",
       "    </tr>\n",
       "    <tr>\n",
       "      <th>std</th>\n",
       "      <td>600.012224</td>\n",
       "      <td>10.226288</td>\n",
       "      <td>5.637669</td>\n",
       "      <td>4.861767</td>\n",
       "      <td>3.946654</td>\n",
       "      <td>1.541723</td>\n",
       "      <td>4.861474</td>\n",
       "      <td>10.047764</td>\n",
       "      <td>1.293506</td>\n",
       "    </tr>\n",
       "    <tr>\n",
       "      <th>min</th>\n",
       "      <td>0.000000</td>\n",
       "      <td>0.000000</td>\n",
       "      <td>8.600000</td>\n",
       "      <td>-0.200000</td>\n",
       "      <td>0.000000</td>\n",
       "      <td>0.000000</td>\n",
       "      <td>5.160000</td>\n",
       "      <td>37.500000</td>\n",
       "      <td>0.000000</td>\n",
       "    </tr>\n",
       "    <tr>\n",
       "      <th>25%</th>\n",
       "      <td>0.000000</td>\n",
       "      <td>0.000000</td>\n",
       "      <td>21.300000</td>\n",
       "      <td>12.500000</td>\n",
       "      <td>2.100000</td>\n",
       "      <td>1.300000</td>\n",
       "      <td>16.280000</td>\n",
       "      <td>69.500000</td>\n",
       "      <td>1.200000</td>\n",
       "    </tr>\n",
       "    <tr>\n",
       "      <th>50%</th>\n",
       "      <td>600.000000</td>\n",
       "      <td>0.000000</td>\n",
       "      <td>25.800000</td>\n",
       "      <td>16.300000</td>\n",
       "      <td>6.700000</td>\n",
       "      <td>2.200000</td>\n",
       "      <td>20.220000</td>\n",
       "      <td>76.500000</td>\n",
       "      <td>1.866667</td>\n",
       "    </tr>\n",
       "    <tr>\n",
       "      <th>75%</th>\n",
       "      <td>1200.000000</td>\n",
       "      <td>1.800000</td>\n",
       "      <td>29.600000</td>\n",
       "      <td>19.600000</td>\n",
       "      <td>9.100000</td>\n",
       "      <td>3.200000</td>\n",
       "      <td>23.560000</td>\n",
       "      <td>83.750000</td>\n",
       "      <td>2.700000</td>\n",
       "    </tr>\n",
       "    <tr>\n",
       "      <th>max</th>\n",
       "      <td>1200.000000</td>\n",
       "      <td>149.600000</td>\n",
       "      <td>40.600000</td>\n",
       "      <td>27.900000</td>\n",
       "      <td>13.200000</td>\n",
       "      <td>20.700000</td>\n",
       "      <td>33.700000</td>\n",
       "      <td>99.250000</td>\n",
       "      <td>14.500000</td>\n",
       "    </tr>\n",
       "  </tbody>\n",
       "</table>\n",
       "</div>"
      ],
      "text/plain": [
       "               Hora  Precipitacao    TempMaxima    TempMinima     Insolacao  \\\n",
       "count  24542.000000  12266.000000  12242.000000  12243.000000  12131.000000   \n",
       "mean     600.000000      3.959351     25.398268     15.728727      5.888220   \n",
       "std      600.012224     10.226288      5.637669      4.861767      3.946654   \n",
       "min        0.000000      0.000000      8.600000     -0.200000      0.000000   \n",
       "25%        0.000000      0.000000     21.300000     12.500000      2.100000   \n",
       "50%      600.000000      0.000000     25.800000     16.300000      6.700000   \n",
       "75%     1200.000000      1.800000     29.600000     19.600000      9.100000   \n",
       "max     1200.000000    149.600000     40.600000     27.900000     13.200000   \n",
       "\n",
       "       Evaporacao Piche  Temp Comp Media  Umidade Relativa Media  \\\n",
       "count      11600.000000     12227.000000            12223.000000   \n",
       "mean           2.432095        19.738193               76.451771   \n",
       "std            1.541723         4.861474               10.047764   \n",
       "min            0.000000         5.160000               37.500000   \n",
       "25%            1.300000        16.280000               69.500000   \n",
       "50%            2.200000        20.220000               76.500000   \n",
       "75%            3.200000        23.560000               83.750000   \n",
       "max           20.700000        33.700000               99.250000   \n",
       "\n",
       "       Velocidade do Vento Media  \n",
       "count               12269.000000  \n",
       "mean                    2.071611  \n",
       "std                     1.293506  \n",
       "min                     0.000000  \n",
       "25%                     1.200000  \n",
       "50%                     1.866667  \n",
       "75%                     2.700000  \n",
       "max                    14.500000  "
      ]
     },
     "execution_count": 7,
     "metadata": {},
     "output_type": "execute_result"
    }
   ],
   "source": [
    "#Descrevendo base de dados\n",
    "dataSet.describe()"
   ]
  },
  {
   "cell_type": "code",
   "execution_count": 8,
   "metadata": {},
   "outputs": [
    {
     "data": {
      "text/html": [
       "<div>\n",
       "<style scoped>\n",
       "    .dataframe tbody tr th:only-of-type {\n",
       "        vertical-align: middle;\n",
       "    }\n",
       "\n",
       "    .dataframe tbody tr th {\n",
       "        vertical-align: top;\n",
       "    }\n",
       "\n",
       "    .dataframe thead th {\n",
       "        text-align: right;\n",
       "    }\n",
       "</style>\n",
       "<table border=\"1\" class=\"dataframe\">\n",
       "  <thead>\n",
       "    <tr style=\"text-align: right;\">\n",
       "      <th></th>\n",
       "      <th>Hora</th>\n",
       "      <th>Precipitacao</th>\n",
       "      <th>TempMaxima</th>\n",
       "      <th>TempMinima</th>\n",
       "      <th>Insolacao</th>\n",
       "      <th>Evaporacao Piche</th>\n",
       "      <th>Temp Comp Media</th>\n",
       "      <th>Umidade Relativa Media</th>\n",
       "      <th>Velocidade do Vento Media</th>\n",
       "    </tr>\n",
       "    <tr>\n",
       "      <th>Data</th>\n",
       "      <th></th>\n",
       "      <th></th>\n",
       "      <th></th>\n",
       "      <th></th>\n",
       "      <th></th>\n",
       "      <th></th>\n",
       "      <th></th>\n",
       "      <th></th>\n",
       "      <th></th>\n",
       "    </tr>\n",
       "  </thead>\n",
       "  <tbody>\n",
       "    <tr>\n",
       "      <th>1980-01-01</th>\n",
       "      <td>0</td>\n",
       "      <td>NaN</td>\n",
       "      <td>23.0</td>\n",
       "      <td>NaN</td>\n",
       "      <td>9.8</td>\n",
       "      <td>5.5</td>\n",
       "      <td>18.34</td>\n",
       "      <td>65.0</td>\n",
       "      <td>3.800000</td>\n",
       "    </tr>\n",
       "    <tr>\n",
       "      <th>1980-01-01</th>\n",
       "      <td>1200</td>\n",
       "      <td>0.0</td>\n",
       "      <td>NaN</td>\n",
       "      <td>14.8</td>\n",
       "      <td>NaN</td>\n",
       "      <td>NaN</td>\n",
       "      <td>NaN</td>\n",
       "      <td>NaN</td>\n",
       "      <td>NaN</td>\n",
       "    </tr>\n",
       "    <tr>\n",
       "      <th>1980-01-02</th>\n",
       "      <td>0</td>\n",
       "      <td>NaN</td>\n",
       "      <td>24.1</td>\n",
       "      <td>NaN</td>\n",
       "      <td>10.8</td>\n",
       "      <td>4.8</td>\n",
       "      <td>18.90</td>\n",
       "      <td>69.5</td>\n",
       "      <td>2.200000</td>\n",
       "    </tr>\n",
       "    <tr>\n",
       "      <th>1980-01-02</th>\n",
       "      <td>1200</td>\n",
       "      <td>0.0</td>\n",
       "      <td>NaN</td>\n",
       "      <td>13.8</td>\n",
       "      <td>NaN</td>\n",
       "      <td>NaN</td>\n",
       "      <td>NaN</td>\n",
       "      <td>NaN</td>\n",
       "      <td>NaN</td>\n",
       "    </tr>\n",
       "    <tr>\n",
       "      <th>1980-01-03</th>\n",
       "      <td>0</td>\n",
       "      <td>NaN</td>\n",
       "      <td>28.4</td>\n",
       "      <td>NaN</td>\n",
       "      <td>11.7</td>\n",
       "      <td>5.0</td>\n",
       "      <td>21.24</td>\n",
       "      <td>59.0</td>\n",
       "      <td>2.166667</td>\n",
       "    </tr>\n",
       "  </tbody>\n",
       "</table>\n",
       "</div>"
      ],
      "text/plain": [
       "            Hora  Precipitacao  TempMaxima  TempMinima  Insolacao  \\\n",
       "Data                                                                \n",
       "1980-01-01     0           NaN        23.0         NaN        9.8   \n",
       "1980-01-01  1200           0.0         NaN        14.8        NaN   \n",
       "1980-01-02     0           NaN        24.1         NaN       10.8   \n",
       "1980-01-02  1200           0.0         NaN        13.8        NaN   \n",
       "1980-01-03     0           NaN        28.4         NaN       11.7   \n",
       "\n",
       "            Evaporacao Piche  Temp Comp Media  Umidade Relativa Media  \\\n",
       "Data                                                                    \n",
       "1980-01-01               5.5            18.34                    65.0   \n",
       "1980-01-01               NaN              NaN                     NaN   \n",
       "1980-01-02               4.8            18.90                    69.5   \n",
       "1980-01-02               NaN              NaN                     NaN   \n",
       "1980-01-03               5.0            21.24                    59.0   \n",
       "\n",
       "            Velocidade do Vento Media  \n",
       "Data                                   \n",
       "1980-01-01                   3.800000  \n",
       "1980-01-01                        NaN  \n",
       "1980-01-02                   2.200000  \n",
       "1980-01-02                        NaN  \n",
       "1980-01-03                   2.166667  "
      ]
     },
     "execution_count": 8,
     "metadata": {},
     "output_type": "execute_result"
    }
   ],
   "source": [
    "#Verificando dados\n",
    "dataSet.head()"
   ]
  },
  {
   "cell_type": "markdown",
   "metadata": {},
   "source": [
    "# Algumas variáveis só são registradas às 12:00, outras apenas às 00:00. Vamos confirmar?"
   ]
  },
  {
   "cell_type": "code",
   "execution_count": 9,
   "metadata": {},
   "outputs": [],
   "source": [
    "#Separando os dados em dois dataframes, um para as 00:00 h e outro para as 12:00 h\n",
    "dataSet00, dataSet12 = dataSet[dataSet[\"Hora\"] == 0], dataSet[dataSet[\"Hora\"] == 1200]"
   ]
  },
  {
   "cell_type": "code",
   "execution_count": 10,
   "metadata": {},
   "outputs": [
    {
     "data": {
      "text/html": [
       "<div>\n",
       "<style scoped>\n",
       "    .dataframe tbody tr th:only-of-type {\n",
       "        vertical-align: middle;\n",
       "    }\n",
       "\n",
       "    .dataframe tbody tr th {\n",
       "        vertical-align: top;\n",
       "    }\n",
       "\n",
       "    .dataframe thead th {\n",
       "        text-align: right;\n",
       "    }\n",
       "</style>\n",
       "<table border=\"1\" class=\"dataframe\">\n",
       "  <thead>\n",
       "    <tr style=\"text-align: right;\">\n",
       "      <th></th>\n",
       "      <th>Hora</th>\n",
       "      <th>Precipitacao</th>\n",
       "      <th>TempMaxima</th>\n",
       "      <th>TempMinima</th>\n",
       "      <th>Insolacao</th>\n",
       "      <th>Evaporacao Piche</th>\n",
       "      <th>Temp Comp Media</th>\n",
       "      <th>Umidade Relativa Media</th>\n",
       "      <th>Velocidade do Vento Media</th>\n",
       "    </tr>\n",
       "  </thead>\n",
       "  <tbody>\n",
       "    <tr>\n",
       "      <th>count</th>\n",
       "      <td>12271.0</td>\n",
       "      <td>0.0</td>\n",
       "      <td>12242.000000</td>\n",
       "      <td>0.0</td>\n",
       "      <td>12131.000000</td>\n",
       "      <td>11600.000000</td>\n",
       "      <td>12227.000000</td>\n",
       "      <td>12223.000000</td>\n",
       "      <td>12269.000000</td>\n",
       "    </tr>\n",
       "    <tr>\n",
       "      <th>mean</th>\n",
       "      <td>0.0</td>\n",
       "      <td>NaN</td>\n",
       "      <td>25.398268</td>\n",
       "      <td>NaN</td>\n",
       "      <td>5.888220</td>\n",
       "      <td>2.432095</td>\n",
       "      <td>19.738193</td>\n",
       "      <td>76.451771</td>\n",
       "      <td>2.071611</td>\n",
       "    </tr>\n",
       "    <tr>\n",
       "      <th>std</th>\n",
       "      <td>0.0</td>\n",
       "      <td>NaN</td>\n",
       "      <td>5.637669</td>\n",
       "      <td>NaN</td>\n",
       "      <td>3.946654</td>\n",
       "      <td>1.541723</td>\n",
       "      <td>4.861474</td>\n",
       "      <td>10.047764</td>\n",
       "      <td>1.293506</td>\n",
       "    </tr>\n",
       "    <tr>\n",
       "      <th>min</th>\n",
       "      <td>0.0</td>\n",
       "      <td>NaN</td>\n",
       "      <td>8.600000</td>\n",
       "      <td>NaN</td>\n",
       "      <td>0.000000</td>\n",
       "      <td>0.000000</td>\n",
       "      <td>5.160000</td>\n",
       "      <td>37.500000</td>\n",
       "      <td>0.000000</td>\n",
       "    </tr>\n",
       "    <tr>\n",
       "      <th>25%</th>\n",
       "      <td>0.0</td>\n",
       "      <td>NaN</td>\n",
       "      <td>21.300000</td>\n",
       "      <td>NaN</td>\n",
       "      <td>2.100000</td>\n",
       "      <td>1.300000</td>\n",
       "      <td>16.280000</td>\n",
       "      <td>69.500000</td>\n",
       "      <td>1.200000</td>\n",
       "    </tr>\n",
       "    <tr>\n",
       "      <th>50%</th>\n",
       "      <td>0.0</td>\n",
       "      <td>NaN</td>\n",
       "      <td>25.800000</td>\n",
       "      <td>NaN</td>\n",
       "      <td>6.700000</td>\n",
       "      <td>2.200000</td>\n",
       "      <td>20.220000</td>\n",
       "      <td>76.500000</td>\n",
       "      <td>1.866667</td>\n",
       "    </tr>\n",
       "    <tr>\n",
       "      <th>75%</th>\n",
       "      <td>0.0</td>\n",
       "      <td>NaN</td>\n",
       "      <td>29.600000</td>\n",
       "      <td>NaN</td>\n",
       "      <td>9.100000</td>\n",
       "      <td>3.200000</td>\n",
       "      <td>23.560000</td>\n",
       "      <td>83.750000</td>\n",
       "      <td>2.700000</td>\n",
       "    </tr>\n",
       "    <tr>\n",
       "      <th>max</th>\n",
       "      <td>0.0</td>\n",
       "      <td>NaN</td>\n",
       "      <td>40.600000</td>\n",
       "      <td>NaN</td>\n",
       "      <td>13.200000</td>\n",
       "      <td>20.700000</td>\n",
       "      <td>33.700000</td>\n",
       "      <td>99.250000</td>\n",
       "      <td>14.500000</td>\n",
       "    </tr>\n",
       "  </tbody>\n",
       "</table>\n",
       "</div>"
      ],
      "text/plain": [
       "          Hora  Precipitacao    TempMaxima  TempMinima     Insolacao  \\\n",
       "count  12271.0           0.0  12242.000000         0.0  12131.000000   \n",
       "mean       0.0           NaN     25.398268         NaN      5.888220   \n",
       "std        0.0           NaN      5.637669         NaN      3.946654   \n",
       "min        0.0           NaN      8.600000         NaN      0.000000   \n",
       "25%        0.0           NaN     21.300000         NaN      2.100000   \n",
       "50%        0.0           NaN     25.800000         NaN      6.700000   \n",
       "75%        0.0           NaN     29.600000         NaN      9.100000   \n",
       "max        0.0           NaN     40.600000         NaN     13.200000   \n",
       "\n",
       "       Evaporacao Piche  Temp Comp Media  Umidade Relativa Media  \\\n",
       "count      11600.000000     12227.000000            12223.000000   \n",
       "mean           2.432095        19.738193               76.451771   \n",
       "std            1.541723         4.861474               10.047764   \n",
       "min            0.000000         5.160000               37.500000   \n",
       "25%            1.300000        16.280000               69.500000   \n",
       "50%            2.200000        20.220000               76.500000   \n",
       "75%            3.200000        23.560000               83.750000   \n",
       "max           20.700000        33.700000               99.250000   \n",
       "\n",
       "       Velocidade do Vento Media  \n",
       "count               12269.000000  \n",
       "mean                    2.071611  \n",
       "std                     1.293506  \n",
       "min                     0.000000  \n",
       "25%                     1.200000  \n",
       "50%                     1.866667  \n",
       "75%                     2.700000  \n",
       "max                    14.500000  "
      ]
     },
     "execution_count": 10,
     "metadata": {},
     "output_type": "execute_result"
    }
   ],
   "source": [
    "#Verificando dataframe para os dados disponibilizados às 00:00 h\n",
    "dataSet00.describe()"
   ]
  },
  {
   "cell_type": "code",
   "execution_count": 11,
   "metadata": {},
   "outputs": [
    {
     "data": {
      "text/html": [
       "<div>\n",
       "<style scoped>\n",
       "    .dataframe tbody tr th:only-of-type {\n",
       "        vertical-align: middle;\n",
       "    }\n",
       "\n",
       "    .dataframe tbody tr th {\n",
       "        vertical-align: top;\n",
       "    }\n",
       "\n",
       "    .dataframe thead th {\n",
       "        text-align: right;\n",
       "    }\n",
       "</style>\n",
       "<table border=\"1\" class=\"dataframe\">\n",
       "  <thead>\n",
       "    <tr style=\"text-align: right;\">\n",
       "      <th></th>\n",
       "      <th>Hora</th>\n",
       "      <th>Precipitacao</th>\n",
       "      <th>TempMaxima</th>\n",
       "      <th>TempMinima</th>\n",
       "      <th>Insolacao</th>\n",
       "      <th>Evaporacao Piche</th>\n",
       "      <th>Temp Comp Media</th>\n",
       "      <th>Umidade Relativa Media</th>\n",
       "      <th>Velocidade do Vento Media</th>\n",
       "    </tr>\n",
       "  </thead>\n",
       "  <tbody>\n",
       "    <tr>\n",
       "      <th>count</th>\n",
       "      <td>12271.0</td>\n",
       "      <td>12266.000000</td>\n",
       "      <td>0.0</td>\n",
       "      <td>12243.000000</td>\n",
       "      <td>0.0</td>\n",
       "      <td>0.0</td>\n",
       "      <td>0.0</td>\n",
       "      <td>0.0</td>\n",
       "      <td>0.0</td>\n",
       "    </tr>\n",
       "    <tr>\n",
       "      <th>mean</th>\n",
       "      <td>1200.0</td>\n",
       "      <td>3.959351</td>\n",
       "      <td>NaN</td>\n",
       "      <td>15.728727</td>\n",
       "      <td>NaN</td>\n",
       "      <td>NaN</td>\n",
       "      <td>NaN</td>\n",
       "      <td>NaN</td>\n",
       "      <td>NaN</td>\n",
       "    </tr>\n",
       "    <tr>\n",
       "      <th>std</th>\n",
       "      <td>0.0</td>\n",
       "      <td>10.226288</td>\n",
       "      <td>NaN</td>\n",
       "      <td>4.861767</td>\n",
       "      <td>NaN</td>\n",
       "      <td>NaN</td>\n",
       "      <td>NaN</td>\n",
       "      <td>NaN</td>\n",
       "      <td>NaN</td>\n",
       "    </tr>\n",
       "    <tr>\n",
       "      <th>min</th>\n",
       "      <td>1200.0</td>\n",
       "      <td>0.000000</td>\n",
       "      <td>NaN</td>\n",
       "      <td>-0.200000</td>\n",
       "      <td>NaN</td>\n",
       "      <td>NaN</td>\n",
       "      <td>NaN</td>\n",
       "      <td>NaN</td>\n",
       "      <td>NaN</td>\n",
       "    </tr>\n",
       "    <tr>\n",
       "      <th>25%</th>\n",
       "      <td>1200.0</td>\n",
       "      <td>0.000000</td>\n",
       "      <td>NaN</td>\n",
       "      <td>12.500000</td>\n",
       "      <td>NaN</td>\n",
       "      <td>NaN</td>\n",
       "      <td>NaN</td>\n",
       "      <td>NaN</td>\n",
       "      <td>NaN</td>\n",
       "    </tr>\n",
       "    <tr>\n",
       "      <th>50%</th>\n",
       "      <td>1200.0</td>\n",
       "      <td>0.000000</td>\n",
       "      <td>NaN</td>\n",
       "      <td>16.300000</td>\n",
       "      <td>NaN</td>\n",
       "      <td>NaN</td>\n",
       "      <td>NaN</td>\n",
       "      <td>NaN</td>\n",
       "      <td>NaN</td>\n",
       "    </tr>\n",
       "    <tr>\n",
       "      <th>75%</th>\n",
       "      <td>1200.0</td>\n",
       "      <td>1.800000</td>\n",
       "      <td>NaN</td>\n",
       "      <td>19.600000</td>\n",
       "      <td>NaN</td>\n",
       "      <td>NaN</td>\n",
       "      <td>NaN</td>\n",
       "      <td>NaN</td>\n",
       "      <td>NaN</td>\n",
       "    </tr>\n",
       "    <tr>\n",
       "      <th>max</th>\n",
       "      <td>1200.0</td>\n",
       "      <td>149.600000</td>\n",
       "      <td>NaN</td>\n",
       "      <td>27.900000</td>\n",
       "      <td>NaN</td>\n",
       "      <td>NaN</td>\n",
       "      <td>NaN</td>\n",
       "      <td>NaN</td>\n",
       "      <td>NaN</td>\n",
       "    </tr>\n",
       "  </tbody>\n",
       "</table>\n",
       "</div>"
      ],
      "text/plain": [
       "          Hora  Precipitacao  TempMaxima    TempMinima  Insolacao  \\\n",
       "count  12271.0  12266.000000         0.0  12243.000000        0.0   \n",
       "mean    1200.0      3.959351         NaN     15.728727        NaN   \n",
       "std        0.0     10.226288         NaN      4.861767        NaN   \n",
       "min     1200.0      0.000000         NaN     -0.200000        NaN   \n",
       "25%     1200.0      0.000000         NaN     12.500000        NaN   \n",
       "50%     1200.0      0.000000         NaN     16.300000        NaN   \n",
       "75%     1200.0      1.800000         NaN     19.600000        NaN   \n",
       "max     1200.0    149.600000         NaN     27.900000        NaN   \n",
       "\n",
       "       Evaporacao Piche  Temp Comp Media  Umidade Relativa Media  \\\n",
       "count               0.0              0.0                     0.0   \n",
       "mean                NaN              NaN                     NaN   \n",
       "std                 NaN              NaN                     NaN   \n",
       "min                 NaN              NaN                     NaN   \n",
       "25%                 NaN              NaN                     NaN   \n",
       "50%                 NaN              NaN                     NaN   \n",
       "75%                 NaN              NaN                     NaN   \n",
       "max                 NaN              NaN                     NaN   \n",
       "\n",
       "       Velocidade do Vento Media  \n",
       "count                        0.0  \n",
       "mean                         NaN  \n",
       "std                          NaN  \n",
       "min                          NaN  \n",
       "25%                          NaN  \n",
       "50%                          NaN  \n",
       "75%                          NaN  \n",
       "max                          NaN  "
      ]
     },
     "execution_count": 11,
     "metadata": {},
     "output_type": "execute_result"
    }
   ],
   "source": [
    "#Verificando dataframe para os dados disponibilizados às 12:00 h\n",
    "dataSet12.describe()"
   ]
  },
  {
   "cell_type": "code",
   "execution_count": 12,
   "metadata": {},
   "outputs": [],
   "source": [
    "#Descartando as colunas inválidas de cada DataFrame\n",
    "dataSet00 = dataSet00.drop(columns = [\"Hora\",\"Precipitacao\",\"TempMinima\"])\n",
    "dataSet12 = dataSet12.drop(columns = [\"Hora\",\"TempMaxima\",\"Insolacao\",\"Evaporacao Piche\",\"Temp Comp Media\",\"Umidade Relativa Media\",\"Velocidade do Vento Media\"])"
   ]
  },
  {
   "cell_type": "code",
   "execution_count": 13,
   "metadata": {},
   "outputs": [
    {
     "data": {
      "text/html": [
       "<div>\n",
       "<style scoped>\n",
       "    .dataframe tbody tr th:only-of-type {\n",
       "        vertical-align: middle;\n",
       "    }\n",
       "\n",
       "    .dataframe tbody tr th {\n",
       "        vertical-align: top;\n",
       "    }\n",
       "\n",
       "    .dataframe thead th {\n",
       "        text-align: right;\n",
       "    }\n",
       "</style>\n",
       "<table border=\"1\" class=\"dataframe\">\n",
       "  <thead>\n",
       "    <tr style=\"text-align: right;\">\n",
       "      <th></th>\n",
       "      <th>TempMaxima</th>\n",
       "      <th>Insolacao</th>\n",
       "      <th>Evaporacao Piche</th>\n",
       "      <th>Temp Comp Media</th>\n",
       "      <th>Umidade Relativa Media</th>\n",
       "      <th>Velocidade do Vento Media</th>\n",
       "    </tr>\n",
       "    <tr>\n",
       "      <th>Data</th>\n",
       "      <th></th>\n",
       "      <th></th>\n",
       "      <th></th>\n",
       "      <th></th>\n",
       "      <th></th>\n",
       "      <th></th>\n",
       "    </tr>\n",
       "  </thead>\n",
       "  <tbody>\n",
       "    <tr>\n",
       "      <th>1980-01-01</th>\n",
       "      <td>23.0</td>\n",
       "      <td>9.8</td>\n",
       "      <td>5.5</td>\n",
       "      <td>18.34</td>\n",
       "      <td>65.00</td>\n",
       "      <td>3.800000</td>\n",
       "    </tr>\n",
       "    <tr>\n",
       "      <th>1980-01-02</th>\n",
       "      <td>24.1</td>\n",
       "      <td>10.8</td>\n",
       "      <td>4.8</td>\n",
       "      <td>18.90</td>\n",
       "      <td>69.50</td>\n",
       "      <td>2.200000</td>\n",
       "    </tr>\n",
       "    <tr>\n",
       "      <th>1980-01-03</th>\n",
       "      <td>28.4</td>\n",
       "      <td>11.7</td>\n",
       "      <td>5.0</td>\n",
       "      <td>21.24</td>\n",
       "      <td>59.00</td>\n",
       "      <td>2.166667</td>\n",
       "    </tr>\n",
       "    <tr>\n",
       "      <th>1980-01-04</th>\n",
       "      <td>28.0</td>\n",
       "      <td>11.1</td>\n",
       "      <td>7.7</td>\n",
       "      <td>22.22</td>\n",
       "      <td>63.75</td>\n",
       "      <td>3.333333</td>\n",
       "    </tr>\n",
       "    <tr>\n",
       "      <th>1980-01-05</th>\n",
       "      <td>28.9</td>\n",
       "      <td>11.3</td>\n",
       "      <td>10.3</td>\n",
       "      <td>23.34</td>\n",
       "      <td>69.00</td>\n",
       "      <td>3.766667</td>\n",
       "    </tr>\n",
       "  </tbody>\n",
       "</table>\n",
       "</div>"
      ],
      "text/plain": [
       "            TempMaxima  Insolacao  Evaporacao Piche  Temp Comp Media  \\\n",
       "Data                                                                   \n",
       "1980-01-01        23.0        9.8               5.5            18.34   \n",
       "1980-01-02        24.1       10.8               4.8            18.90   \n",
       "1980-01-03        28.4       11.7               5.0            21.24   \n",
       "1980-01-04        28.0       11.1               7.7            22.22   \n",
       "1980-01-05        28.9       11.3              10.3            23.34   \n",
       "\n",
       "            Umidade Relativa Media  Velocidade do Vento Media  \n",
       "Data                                                           \n",
       "1980-01-01                   65.00                   3.800000  \n",
       "1980-01-02                   69.50                   2.200000  \n",
       "1980-01-03                   59.00                   2.166667  \n",
       "1980-01-04                   63.75                   3.333333  \n",
       "1980-01-05                   69.00                   3.766667  "
      ]
     },
     "execution_count": 13,
     "metadata": {},
     "output_type": "execute_result"
    }
   ],
   "source": [
    "#Visualizando dados\n",
    "dataSet00.head()"
   ]
  },
  {
   "cell_type": "code",
   "execution_count": 14,
   "metadata": {},
   "outputs": [
    {
     "data": {
      "text/html": [
       "<div>\n",
       "<style scoped>\n",
       "    .dataframe tbody tr th:only-of-type {\n",
       "        vertical-align: middle;\n",
       "    }\n",
       "\n",
       "    .dataframe tbody tr th {\n",
       "        vertical-align: top;\n",
       "    }\n",
       "\n",
       "    .dataframe thead th {\n",
       "        text-align: right;\n",
       "    }\n",
       "</style>\n",
       "<table border=\"1\" class=\"dataframe\">\n",
       "  <thead>\n",
       "    <tr style=\"text-align: right;\">\n",
       "      <th></th>\n",
       "      <th>Precipitacao</th>\n",
       "      <th>TempMinima</th>\n",
       "    </tr>\n",
       "    <tr>\n",
       "      <th>Data</th>\n",
       "      <th></th>\n",
       "      <th></th>\n",
       "    </tr>\n",
       "  </thead>\n",
       "  <tbody>\n",
       "    <tr>\n",
       "      <th>1980-01-01</th>\n",
       "      <td>0.0</td>\n",
       "      <td>14.8</td>\n",
       "    </tr>\n",
       "    <tr>\n",
       "      <th>1980-01-02</th>\n",
       "      <td>0.0</td>\n",
       "      <td>13.8</td>\n",
       "    </tr>\n",
       "    <tr>\n",
       "      <th>1980-01-03</th>\n",
       "      <td>0.0</td>\n",
       "      <td>14.5</td>\n",
       "    </tr>\n",
       "    <tr>\n",
       "      <th>1980-01-04</th>\n",
       "      <td>0.0</td>\n",
       "      <td>15.9</td>\n",
       "    </tr>\n",
       "    <tr>\n",
       "      <th>1980-01-05</th>\n",
       "      <td>0.0</td>\n",
       "      <td>19.5</td>\n",
       "    </tr>\n",
       "  </tbody>\n",
       "</table>\n",
       "</div>"
      ],
      "text/plain": [
       "            Precipitacao  TempMinima\n",
       "Data                                \n",
       "1980-01-01           0.0        14.8\n",
       "1980-01-02           0.0        13.8\n",
       "1980-01-03           0.0        14.5\n",
       "1980-01-04           0.0        15.9\n",
       "1980-01-05           0.0        19.5"
      ]
     },
     "execution_count": 14,
     "metadata": {},
     "output_type": "execute_result"
    }
   ],
   "source": [
    "#Visualizando dados\n",
    "dataSet12.head()"
   ]
  },
  {
   "cell_type": "code",
   "execution_count": 15,
   "metadata": {},
   "outputs": [],
   "source": [
    "#Criando o intervalo completo de tempo de 01-01-1980 à 31-12-2017\n",
    "dataInicial = '1980-01-01'\n",
    "dataFinal = '2017-12-31'\n",
    "tempo = pd.date_range(dataInicial, dataFinal)"
   ]
  },
  {
   "cell_type": "code",
   "execution_count": 16,
   "metadata": {},
   "outputs": [],
   "source": [
    "#Atribuindo este intervalo de tempo à um dataSet provisório\n",
    "dataSetProv = pd.DataFrame()\n",
    "dataSetProv[\"Data\"] = tempo"
   ]
  },
  {
   "cell_type": "code",
   "execution_count": 17,
   "metadata": {},
   "outputs": [
    {
     "data": {
      "text/html": [
       "<div>\n",
       "<style scoped>\n",
       "    .dataframe tbody tr th:only-of-type {\n",
       "        vertical-align: middle;\n",
       "    }\n",
       "\n",
       "    .dataframe tbody tr th {\n",
       "        vertical-align: top;\n",
       "    }\n",
       "\n",
       "    .dataframe thead th {\n",
       "        text-align: right;\n",
       "    }\n",
       "</style>\n",
       "<table border=\"1\" class=\"dataframe\">\n",
       "  <thead>\n",
       "    <tr style=\"text-align: right;\">\n",
       "      <th></th>\n",
       "      <th>Data</th>\n",
       "    </tr>\n",
       "  </thead>\n",
       "  <tbody>\n",
       "    <tr>\n",
       "      <th>0</th>\n",
       "      <td>1980-01-01</td>\n",
       "    </tr>\n",
       "    <tr>\n",
       "      <th>1</th>\n",
       "      <td>1980-01-02</td>\n",
       "    </tr>\n",
       "    <tr>\n",
       "      <th>2</th>\n",
       "      <td>1980-01-03</td>\n",
       "    </tr>\n",
       "    <tr>\n",
       "      <th>3</th>\n",
       "      <td>1980-01-04</td>\n",
       "    </tr>\n",
       "    <tr>\n",
       "      <th>4</th>\n",
       "      <td>1980-01-05</td>\n",
       "    </tr>\n",
       "  </tbody>\n",
       "</table>\n",
       "</div>"
      ],
      "text/plain": [
       "        Data\n",
       "0 1980-01-01\n",
       "1 1980-01-02\n",
       "2 1980-01-03\n",
       "3 1980-01-04\n",
       "4 1980-01-05"
      ]
     },
     "execution_count": 17,
     "metadata": {},
     "output_type": "execute_result"
    }
   ],
   "source": [
    "#Visualizando o dataSet provisório\n",
    "dataSetProv.head()"
   ]
  },
  {
   "cell_type": "code",
   "execution_count": 18,
   "metadata": {},
   "outputs": [],
   "source": [
    "#Atribuindo o índice para o dataSet provisório como sendo a coluna de datas\n",
    "dataSetProv = dataSetProv.set_index(\"Data\")"
   ]
  },
  {
   "cell_type": "code",
   "execution_count": 19,
   "metadata": {},
   "outputs": [],
   "source": [
    "#Mesclando o dataSet provisório como sendo o resultado da junção dos dataSet00 e dataSet12\n",
    "dataSetProv = dataSetProv.join(dataSet00).join(dataSet12)"
   ]
  },
  {
   "cell_type": "code",
   "execution_count": 20,
   "metadata": {},
   "outputs": [
    {
     "data": {
      "text/html": [
       "<div>\n",
       "<style scoped>\n",
       "    .dataframe tbody tr th:only-of-type {\n",
       "        vertical-align: middle;\n",
       "    }\n",
       "\n",
       "    .dataframe tbody tr th {\n",
       "        vertical-align: top;\n",
       "    }\n",
       "\n",
       "    .dataframe thead th {\n",
       "        text-align: right;\n",
       "    }\n",
       "</style>\n",
       "<table border=\"1\" class=\"dataframe\">\n",
       "  <thead>\n",
       "    <tr style=\"text-align: right;\">\n",
       "      <th></th>\n",
       "      <th>TempMaxima</th>\n",
       "      <th>Insolacao</th>\n",
       "      <th>Evaporacao Piche</th>\n",
       "      <th>Temp Comp Media</th>\n",
       "      <th>Umidade Relativa Media</th>\n",
       "      <th>Velocidade do Vento Media</th>\n",
       "      <th>Precipitacao</th>\n",
       "      <th>TempMinima</th>\n",
       "    </tr>\n",
       "    <tr>\n",
       "      <th>Data</th>\n",
       "      <th></th>\n",
       "      <th></th>\n",
       "      <th></th>\n",
       "      <th></th>\n",
       "      <th></th>\n",
       "      <th></th>\n",
       "      <th></th>\n",
       "      <th></th>\n",
       "    </tr>\n",
       "  </thead>\n",
       "  <tbody>\n",
       "    <tr>\n",
       "      <th>1980-01-01</th>\n",
       "      <td>23.0</td>\n",
       "      <td>9.8</td>\n",
       "      <td>5.5</td>\n",
       "      <td>18.34</td>\n",
       "      <td>65.00</td>\n",
       "      <td>3.800000</td>\n",
       "      <td>0.0</td>\n",
       "      <td>14.8</td>\n",
       "    </tr>\n",
       "    <tr>\n",
       "      <th>1980-01-02</th>\n",
       "      <td>24.1</td>\n",
       "      <td>10.8</td>\n",
       "      <td>4.8</td>\n",
       "      <td>18.90</td>\n",
       "      <td>69.50</td>\n",
       "      <td>2.200000</td>\n",
       "      <td>0.0</td>\n",
       "      <td>13.8</td>\n",
       "    </tr>\n",
       "    <tr>\n",
       "      <th>1980-01-03</th>\n",
       "      <td>28.4</td>\n",
       "      <td>11.7</td>\n",
       "      <td>5.0</td>\n",
       "      <td>21.24</td>\n",
       "      <td>59.00</td>\n",
       "      <td>2.166667</td>\n",
       "      <td>0.0</td>\n",
       "      <td>14.5</td>\n",
       "    </tr>\n",
       "    <tr>\n",
       "      <th>1980-01-04</th>\n",
       "      <td>28.0</td>\n",
       "      <td>11.1</td>\n",
       "      <td>7.7</td>\n",
       "      <td>22.22</td>\n",
       "      <td>63.75</td>\n",
       "      <td>3.333333</td>\n",
       "      <td>0.0</td>\n",
       "      <td>15.9</td>\n",
       "    </tr>\n",
       "    <tr>\n",
       "      <th>1980-01-05</th>\n",
       "      <td>28.9</td>\n",
       "      <td>11.3</td>\n",
       "      <td>10.3</td>\n",
       "      <td>23.34</td>\n",
       "      <td>69.00</td>\n",
       "      <td>3.766667</td>\n",
       "      <td>0.0</td>\n",
       "      <td>19.5</td>\n",
       "    </tr>\n",
       "  </tbody>\n",
       "</table>\n",
       "</div>"
      ],
      "text/plain": [
       "            TempMaxima  Insolacao  Evaporacao Piche  Temp Comp Media  \\\n",
       "Data                                                                   \n",
       "1980-01-01        23.0        9.8               5.5            18.34   \n",
       "1980-01-02        24.1       10.8               4.8            18.90   \n",
       "1980-01-03        28.4       11.7               5.0            21.24   \n",
       "1980-01-04        28.0       11.1               7.7            22.22   \n",
       "1980-01-05        28.9       11.3              10.3            23.34   \n",
       "\n",
       "            Umidade Relativa Media  Velocidade do Vento Media  Precipitacao  \\\n",
       "Data                                                                          \n",
       "1980-01-01                   65.00                   3.800000           0.0   \n",
       "1980-01-02                   69.50                   2.200000           0.0   \n",
       "1980-01-03                   59.00                   2.166667           0.0   \n",
       "1980-01-04                   63.75                   3.333333           0.0   \n",
       "1980-01-05                   69.00                   3.766667           0.0   \n",
       "\n",
       "            TempMinima  \n",
       "Data                    \n",
       "1980-01-01        14.8  \n",
       "1980-01-02        13.8  \n",
       "1980-01-03        14.5  \n",
       "1980-01-04        15.9  \n",
       "1980-01-05        19.5  "
      ]
     },
     "execution_count": 20,
     "metadata": {},
     "output_type": "execute_result"
    }
   ],
   "source": [
    "#Mostrando o resultado da junção\n",
    "dataSetProv.head()"
   ]
  },
  {
   "cell_type": "code",
   "execution_count": 21,
   "metadata": {},
   "outputs": [],
   "source": [
    "#Atribuindo ao dataSet original o dataSet provisório\n",
    "dataSet = dataSetProv"
   ]
  },
  {
   "cell_type": "code",
   "execution_count": 22,
   "metadata": {},
   "outputs": [],
   "source": [
    "#Eliminando dados inválidos\n",
    "dataSet = dataSet.dropna()"
   ]
  },
  {
   "cell_type": "code",
   "execution_count": 23,
   "metadata": {},
   "outputs": [
    {
     "data": {
      "text/html": [
       "<div>\n",
       "<style scoped>\n",
       "    .dataframe tbody tr th:only-of-type {\n",
       "        vertical-align: middle;\n",
       "    }\n",
       "\n",
       "    .dataframe tbody tr th {\n",
       "        vertical-align: top;\n",
       "    }\n",
       "\n",
       "    .dataframe thead th {\n",
       "        text-align: right;\n",
       "    }\n",
       "</style>\n",
       "<table border=\"1\" class=\"dataframe\">\n",
       "  <thead>\n",
       "    <tr style=\"text-align: right;\">\n",
       "      <th></th>\n",
       "      <th>TempMaxima</th>\n",
       "      <th>Insolacao</th>\n",
       "      <th>Evaporacao Piche</th>\n",
       "      <th>Temp Comp Media</th>\n",
       "      <th>Umidade Relativa Media</th>\n",
       "      <th>Velocidade do Vento Media</th>\n",
       "      <th>Precipitacao</th>\n",
       "      <th>TempMinima</th>\n",
       "    </tr>\n",
       "  </thead>\n",
       "  <tbody>\n",
       "    <tr>\n",
       "      <th>count</th>\n",
       "      <td>11563.000000</td>\n",
       "      <td>11563.000000</td>\n",
       "      <td>11563.000000</td>\n",
       "      <td>11563.000000</td>\n",
       "      <td>11563.000000</td>\n",
       "      <td>11563.000000</td>\n",
       "      <td>11563.000000</td>\n",
       "      <td>11563.000000</td>\n",
       "    </tr>\n",
       "    <tr>\n",
       "      <th>mean</th>\n",
       "      <td>25.415160</td>\n",
       "      <td>5.904376</td>\n",
       "      <td>2.429958</td>\n",
       "      <td>19.747934</td>\n",
       "      <td>76.412025</td>\n",
       "      <td>2.091013</td>\n",
       "      <td>3.943838</td>\n",
       "      <td>15.717495</td>\n",
       "    </tr>\n",
       "    <tr>\n",
       "      <th>std</th>\n",
       "      <td>5.640662</td>\n",
       "      <td>3.949802</td>\n",
       "      <td>1.539877</td>\n",
       "      <td>4.869706</td>\n",
       "      <td>10.019447</td>\n",
       "      <td>1.298931</td>\n",
       "      <td>10.180307</td>\n",
       "      <td>4.874658</td>\n",
       "    </tr>\n",
       "    <tr>\n",
       "      <th>min</th>\n",
       "      <td>8.600000</td>\n",
       "      <td>0.000000</td>\n",
       "      <td>0.000000</td>\n",
       "      <td>5.160000</td>\n",
       "      <td>37.500000</td>\n",
       "      <td>0.000000</td>\n",
       "      <td>0.000000</td>\n",
       "      <td>-0.200000</td>\n",
       "    </tr>\n",
       "    <tr>\n",
       "      <th>25%</th>\n",
       "      <td>21.300000</td>\n",
       "      <td>2.100000</td>\n",
       "      <td>1.300000</td>\n",
       "      <td>16.280000</td>\n",
       "      <td>69.250000</td>\n",
       "      <td>1.200000</td>\n",
       "      <td>0.000000</td>\n",
       "      <td>12.500000</td>\n",
       "    </tr>\n",
       "    <tr>\n",
       "      <th>50%</th>\n",
       "      <td>25.800000</td>\n",
       "      <td>6.700000</td>\n",
       "      <td>2.200000</td>\n",
       "      <td>20.240000</td>\n",
       "      <td>76.500000</td>\n",
       "      <td>1.866667</td>\n",
       "      <td>0.000000</td>\n",
       "      <td>16.300000</td>\n",
       "    </tr>\n",
       "    <tr>\n",
       "      <th>75%</th>\n",
       "      <td>29.600000</td>\n",
       "      <td>9.100000</td>\n",
       "      <td>3.200000</td>\n",
       "      <td>23.580000</td>\n",
       "      <td>83.750000</td>\n",
       "      <td>2.733333</td>\n",
       "      <td>1.800000</td>\n",
       "      <td>19.600000</td>\n",
       "    </tr>\n",
       "    <tr>\n",
       "      <th>max</th>\n",
       "      <td>40.600000</td>\n",
       "      <td>13.200000</td>\n",
       "      <td>20.700000</td>\n",
       "      <td>33.700000</td>\n",
       "      <td>99.250000</td>\n",
       "      <td>14.500000</td>\n",
       "      <td>149.600000</td>\n",
       "      <td>27.900000</td>\n",
       "    </tr>\n",
       "  </tbody>\n",
       "</table>\n",
       "</div>"
      ],
      "text/plain": [
       "         TempMaxima     Insolacao  Evaporacao Piche  Temp Comp Media  \\\n",
       "count  11563.000000  11563.000000      11563.000000     11563.000000   \n",
       "mean      25.415160      5.904376          2.429958        19.747934   \n",
       "std        5.640662      3.949802          1.539877         4.869706   \n",
       "min        8.600000      0.000000          0.000000         5.160000   \n",
       "25%       21.300000      2.100000          1.300000        16.280000   \n",
       "50%       25.800000      6.700000          2.200000        20.240000   \n",
       "75%       29.600000      9.100000          3.200000        23.580000   \n",
       "max       40.600000     13.200000         20.700000        33.700000   \n",
       "\n",
       "       Umidade Relativa Media  Velocidade do Vento Media  Precipitacao  \\\n",
       "count            11563.000000               11563.000000  11563.000000   \n",
       "mean                76.412025                   2.091013      3.943838   \n",
       "std                 10.019447                   1.298931     10.180307   \n",
       "min                 37.500000                   0.000000      0.000000   \n",
       "25%                 69.250000                   1.200000      0.000000   \n",
       "50%                 76.500000                   1.866667      0.000000   \n",
       "75%                 83.750000                   2.733333      1.800000   \n",
       "max                 99.250000                  14.500000    149.600000   \n",
       "\n",
       "         TempMinima  \n",
       "count  11563.000000  \n",
       "mean      15.717495  \n",
       "std        4.874658  \n",
       "min       -0.200000  \n",
       "25%       12.500000  \n",
       "50%       16.300000  \n",
       "75%       19.600000  \n",
       "max       27.900000  "
      ]
     },
     "execution_count": 23,
     "metadata": {},
     "output_type": "execute_result"
    }
   ],
   "source": [
    "#Descrevendo dados\n",
    "dataSet.describe()"
   ]
  },
  {
   "cell_type": "markdown",
   "metadata": {},
   "source": [
    "# Agora iremos falar de técnicas para pré-processamento"
   ]
  },
  {
   "cell_type": "code",
   "execution_count": 24,
   "metadata": {},
   "outputs": [],
   "source": [
    "import matplotlib.pyplot as plt"
   ]
  },
  {
   "cell_type": "code",
   "execution_count": 25,
   "metadata": {},
   "outputs": [
    {
     "name": "stderr",
     "output_type": "stream",
     "text": [
      "/home/gilvandro/anaconda3/lib/python3.6/site-packages/pandas/plotting/_converter.py:129: FutureWarning: Using an implicitly registered datetime converter for a matplotlib plotting method. The converter was registered by pandas on import. Future versions of pandas will require you to explicitly register matplotlib converters.\n",
      "\n",
      "To register the converters:\n",
      "\t>>> from pandas.plotting import register_matplotlib_converters\n",
      "\t>>> register_matplotlib_converters()\n",
      "  warnings.warn(msg, FutureWarning)\n"
     ]
    },
    {
     "data": {
      "text/plain": [
       "<matplotlib.collections.PathCollection at 0x7fc4fd8fbeb8>"
      ]
     },
     "execution_count": 25,
     "metadata": {},
     "output_type": "execute_result"
    },
    {
     "data": {
      "image/png": "[encoded data removed]",
      "text/plain": [
       "<Figure size 432x288 with 1 Axes>"
      ]
     },
     "metadata": {
      "needs_background": "light"
     },
     "output_type": "display_data"
    }
   ],
   "source": [
    "#Plotando gráfico de precipitação de chuva x tempo\n",
    "plt.scatter(dataSet.index, dataSet[\"Precipitacao\"])"
   ]
  },
  {
   "cell_type": "markdown",
   "metadata": {},
   "source": [
    "<h3> A documentação para técnicas de pré-processamento da biblioteca Scikit-learn é bem vasta. Iremos tratar só de algumas. Segue o link:\n",
    "    \n",
    "https://scikit-learn.org/stable/modules/classes.html#module-sklearn.preprocessing"
   ]
  },
  {
   "cell_type": "code",
   "execution_count": 26,
   "metadata": {},
   "outputs": [],
   "source": [
    "from sklearn.preprocessing import StandardScaler\n",
    "# Transformação do tipo z = (x - u) / s\n",
    "sc = StandardScaler()\n",
    "xLabel = dataSet.index\n",
    "yLabel = dataSet[\"Precipitacao\"].values\n",
    "yLabel = sc.fit_transform(yLabel.reshape(-1, 1))"
   ]
  },
  {
   "cell_type": "code",
   "execution_count": 27,
   "metadata": {},
   "outputs": [
    {
     "data": {
      "text/plain": [
       "<matplotlib.collections.PathCollection at 0x7fc4fb709f98>"
      ]
     },
     "execution_count": 27,
     "metadata": {},
     "output_type": "execute_result"
    },
    {
     "data": {
      "image/png": "[encoded data removed]",
      "text/plain": [
       "<Figure size 432x288 with 1 Axes>"
      ]
     },
     "metadata": {
      "needs_background": "light"
     },
     "output_type": "display_data"
    }
   ],
   "source": [
    "#Plotando gráfico\n",
    "plt.scatter(xLabel, yLabel)"
   ]
  },
  {
   "cell_type": "code",
   "execution_count": 28,
   "metadata": {},
   "outputs": [
    {
     "name": "stdout",
     "output_type": "stream",
     "text": [
      "(11563,)\n"
     ]
    }
   ],
   "source": [
    "#Verificando dimensão do xLabel sem fazer o reshape\n",
    "print(dataSet[\"Precipitacao\"].values.shape)"
   ]
  },
  {
   "cell_type": "code",
   "execution_count": 29,
   "metadata": {},
   "outputs": [
    {
     "name": "stdout",
     "output_type": "stream",
     "text": [
      "(11563, 1)\n"
     ]
    }
   ],
   "source": [
    "#Verificando dimensão do xLabel após fazer o reshape\n",
    "print(dataSet[\"Precipitacao\"].values.reshape(-1, 1).shape)"
   ]
  },
  {
   "cell_type": "code",
   "execution_count": 30,
   "metadata": {},
   "outputs": [],
   "source": [
    "from sklearn.preprocessing import MinMaxScaler\n",
    "#Transformação entre o mínimo e o máximo (por padrão: máximo = 1.0, mínimo = 0.0)\n",
    "mms = MinMaxScaler()\n",
    "xLabel = dataSet.index\n",
    "yLabel = dataSet[\"Precipitacao\"].values\n",
    "yLabel = mms.fit_transform(yLabel.reshape(-1, 1))"
   ]
  },
  {
   "cell_type": "code",
   "execution_count": 31,
   "metadata": {},
   "outputs": [
    {
     "data": {
      "text/plain": [
       "<matplotlib.collections.PathCollection at 0x7fc4fb5e2e48>"
      ]
     },
     "execution_count": 31,
     "metadata": {},
     "output_type": "execute_result"
    },
    {
     "data": {
      "image/png": "[encoded data removed]",
      "text/plain": [
       "<Figure size 432x288 with 1 Axes>"
      ]
     },
     "metadata": {
      "needs_background": "light"
     },
     "output_type": "display_data"
    }
   ],
   "source": [
    "#Plotando gráfico\n",
    "plt.scatter(xLabel, yLabel)"
   ]
  },
  {
   "cell_type": "code",
   "execution_count": 32,
   "metadata": {},
   "outputs": [],
   "source": [
    "#Transformando agora entre -1.0 e 1.0\n",
    "mms = MinMaxScaler(feature_range=(-1,1))\n",
    "xLabel = dataSet.index\n",
    "yLabel = dataSet[\"Precipitacao\"].values\n",
    "yLabel = mms.fit_transform(yLabel.reshape(-1, 1))"
   ]
  },
  {
   "cell_type": "code",
   "execution_count": 33,
   "metadata": {},
   "outputs": [
    {
     "data": {
      "text/plain": [
       "<matplotlib.collections.PathCollection at 0x7fc4fb59df28>"
      ]
     },
     "execution_count": 33,
     "metadata": {},
     "output_type": "execute_result"
    },
    {
     "data": {
      "image/png": "[encoded data removed]",
      "text/plain": [
       "<Figure size 432x288 with 1 Axes>"
      ]
     },
     "metadata": {
      "needs_background": "light"
     },
     "output_type": "display_data"
    }
   ],
   "source": [
    "#Plotando gráfico\n",
    "plt.scatter(xLabel, yLabel)"
   ]
  },
  {
   "cell_type": "code",
   "execution_count": 34,
   "metadata": {},
   "outputs": [],
   "source": [
    "from sklearn.preprocessing import RobustScaler\n",
    "#Transformação levando em conta os quartis (por padrão, 0.25 e 0.75), mais robusta à outliers\n",
    "rs = RobustScaler()\n",
    "xLabel = dataSet.index\n",
    "yLabel = dataSet[\"Precipitacao\"].values\n",
    "yLabel = rs.fit_transform(yLabel.reshape(-1, 1))"
   ]
  },
  {
   "cell_type": "code",
   "execution_count": 35,
   "metadata": {},
   "outputs": [
    {
     "data": {
      "text/plain": [
       "<matplotlib.collections.PathCollection at 0x7fc4fb4d5f60>"
      ]
     },
     "execution_count": 35,
     "metadata": {},
     "output_type": "execute_result"
    },
    {
     "data": {
      "image/png": "[encoded data removed]",
      "text/plain": [
       "<Figure size 432x288 with 1 Axes>"
      ]
     },
     "metadata": {
      "needs_background": "light"
     },
     "output_type": "display_data"
    }
   ],
   "source": [
    "#Plotando gráfico\n",
    "plt.scatter(xLabel, yLabel)"
   ]
  },
  {
   "cell_type": "markdown",
   "metadata": {},
   "source": [
    "<h3> Seguem mais exemplos: \n",
    "    \n",
    "https://scikit-learn.org/stable/auto_examples/preprocessing/plot_all_scaling.html#sphx-glr-auto-examples-preprocessing-plot-all-scaling-py"
   ]
  },
  {
   "cell_type": "markdown",
   "metadata": {},
   "source": [
    "# Agora vamos começar a falar de aprendizado de máquina!"
   ]
  },
  {
   "cell_type": "code",
   "execution_count": 36,
   "metadata": {},
   "outputs": [],
   "source": [
    "#Separando variáveis que vamos utilizar para efetuar a regressão linear\n",
    "X = dataSet[\"TempMaxima\"]\n",
    "Y = dataSet[\"TempMinima\"]"
   ]
  },
  {
   "cell_type": "code",
   "execution_count": 37,
   "metadata": {},
   "outputs": [],
   "source": [
    "from sklearn.model_selection import train_test_split\n",
    "#Separando conjuntos de treino e de teste - mas o que são variáveis para treino e teste?\n",
    "X_train, X_test, Y_train, Y_test = train_test_split(X, Y, test_size = 0.1, random_state = 3)"
   ]
  },
  {
   "cell_type": "markdown",
   "metadata": {},
   "source": [
    "# Descrevendo conjunto para treino"
   ]
  },
  {
   "cell_type": "code",
   "execution_count": 38,
   "metadata": {},
   "outputs": [
    {
     "data": {
      "text/plain": [
       "count    10406.000000\n",
       "mean        25.431145\n",
       "std          5.631862\n",
       "min          8.600000\n",
       "25%         21.300000\n",
       "50%         25.900000\n",
       "75%         29.600000\n",
       "max         40.600000\n",
       "Name: TempMaxima, dtype: float64"
      ]
     },
     "execution_count": 38,
     "metadata": {},
     "output_type": "execute_result"
    }
   ],
   "source": [
    "X_train.describe()"
   ]
  },
  {
   "cell_type": "code",
   "execution_count": 39,
   "metadata": {},
   "outputs": [
    {
     "data": {
      "text/plain": [
       "Data\n",
       "2000-11-23    35.8\n",
       "2016-11-08    31.1\n",
       "1992-05-16    20.8\n",
       "2000-01-29    32.3\n",
       "2007-10-26    31.8\n",
       "Name: TempMaxima, dtype: float64"
      ]
     },
     "execution_count": 39,
     "metadata": {},
     "output_type": "execute_result"
    }
   ],
   "source": [
    "X_train.head()"
   ]
  },
  {
   "cell_type": "code",
   "execution_count": 40,
   "metadata": {},
   "outputs": [
    {
     "data": {
      "text/plain": [
       "count    10406.000000\n",
       "mean        15.714847\n",
       "std          4.871345\n",
       "min         -0.200000\n",
       "25%         12.500000\n",
       "50%         16.300000\n",
       "75%         19.600000\n",
       "max         27.900000\n",
       "Name: TempMinima, dtype: float64"
      ]
     },
     "execution_count": 40,
     "metadata": {},
     "output_type": "execute_result"
    }
   ],
   "source": [
    "Y_train.describe()"
   ]
  },
  {
   "cell_type": "code",
   "execution_count": 41,
   "metadata": {},
   "outputs": [
    {
     "data": {
      "text/plain": [
       "Data\n",
       "2000-11-23    18.5\n",
       "2016-11-08    18.1\n",
       "1992-05-16    15.6\n",
       "2000-01-29    18.6\n",
       "2007-10-26    21.6\n",
       "Name: TempMinima, dtype: float64"
      ]
     },
     "execution_count": 41,
     "metadata": {},
     "output_type": "execute_result"
    }
   ],
   "source": [
    "Y_train.head()"
   ]
  },
  {
   "cell_type": "markdown",
   "metadata": {},
   "source": [
    "# Descrevendo conjunto para teste"
   ]
  },
  {
   "cell_type": "code",
   "execution_count": 42,
   "metadata": {},
   "outputs": [
    {
     "data": {
      "text/plain": [
       "count    1157.000000\n",
       "mean       25.271392\n",
       "std         5.719658\n",
       "min         9.100000\n",
       "25%        21.200000\n",
       "50%        25.500000\n",
       "75%        29.600000\n",
       "max        39.000000\n",
       "Name: TempMaxima, dtype: float64"
      ]
     },
     "execution_count": 42,
     "metadata": {},
     "output_type": "execute_result"
    }
   ],
   "source": [
    "X_test.describe()"
   ]
  },
  {
   "cell_type": "code",
   "execution_count": 43,
   "metadata": {},
   "outputs": [
    {
     "data": {
      "text/plain": [
       "Data\n",
       "1999-08-29    20.8\n",
       "1998-03-21    26.6\n",
       "1988-07-11    13.1\n",
       "1989-08-29    24.7\n",
       "1994-12-12    39.0\n",
       "Name: TempMaxima, dtype: float64"
      ]
     },
     "execution_count": 43,
     "metadata": {},
     "output_type": "execute_result"
    }
   ],
   "source": [
    "X_test.head()"
   ]
  },
  {
   "cell_type": "code",
   "execution_count": 44,
   "metadata": {},
   "outputs": [
    {
     "data": {
      "text/plain": [
       "count    1157.000000\n",
       "mean       15.741314\n",
       "std         4.906406\n",
       "min         1.400000\n",
       "25%        12.800000\n",
       "50%        16.200000\n",
       "75%        19.600000\n",
       "max        26.100000\n",
       "Name: TempMinima, dtype: float64"
      ]
     },
     "execution_count": 44,
     "metadata": {},
     "output_type": "execute_result"
    }
   ],
   "source": [
    "Y_test.describe()"
   ]
  },
  {
   "cell_type": "code",
   "execution_count": 45,
   "metadata": {},
   "outputs": [
    {
     "data": {
      "text/plain": [
       "Data\n",
       "1999-08-29    14.6\n",
       "1998-03-21    17.6\n",
       "1988-07-11     2.0\n",
       "1989-08-29     5.2\n",
       "1994-12-12    22.8\n",
       "Name: TempMinima, dtype: float64"
      ]
     },
     "execution_count": 45,
     "metadata": {},
     "output_type": "execute_result"
    }
   ],
   "source": [
    "Y_test.head()"
   ]
  },
  {
   "cell_type": "markdown",
   "metadata": {},
   "source": [
    "# Tantas linhas de pré-processamento, mas ... cadê o processamento?"
   ]
  },
  {
   "cell_type": "code",
   "execution_count": 46,
   "metadata": {},
   "outputs": [
    {
     "data": {
      "text/plain": [
       "LinearRegression(copy_X=True, fit_intercept=True, n_jobs=None,\n",
       "         normalize=False)"
      ]
     },
     "execution_count": 46,
     "metadata": {},
     "output_type": "execute_result"
    }
   ],
   "source": [
    "from sklearn import linear_model\n",
    "#Criando (e treinando) modelo para regressão linear\n",
    "model = linear_model.LinearRegression()\n",
    "model.fit(X_train.values.reshape(-1, 1), Y_train)"
   ]
  },
  {
   "cell_type": "code",
   "execution_count": 47,
   "metadata": {},
   "outputs": [],
   "source": [
    "#Usando modelo treinado com o conjunto de treino para prever os valores esperados para o conjunto de teste\n",
    "resultados = model.predict(X_test.values.reshape(-1, 1))"
   ]
  },
  {
   "cell_type": "code",
   "execution_count": 48,
   "metadata": {},
   "outputs": [
    {
     "data": {
      "text/plain": [
       "<matplotlib.collections.PathCollection at 0x7fc4faf95a90>"
      ]
     },
     "execution_count": 48,
     "metadata": {},
     "output_type": "execute_result"
    },
    {
     "data": {
      "image/png": "[encoded data removed]",
      "text/plain": [
       "<Figure size 432x288 with 1 Axes>"
      ]
     },
     "metadata": {
      "needs_background": "light"
     },
     "output_type": "display_data"
    }
   ],
   "source": [
    "#Plotando gráfico de valores previstos x valores esperados\n",
    "plt.scatter(Y_test, resultados)"
   ]
  },
  {
   "cell_type": "markdown",
   "metadata": {},
   "source": [
    "# Agora vamos fazer uma avaliação mais do que apenas visual"
   ]
  },
  {
   "cell_type": "code",
   "execution_count": 49,
   "metadata": {},
   "outputs": [],
   "source": [
    "#Algumas métricas para avaliação\n",
    "from sklearn.metrics import mean_absolute_error\n",
    "from sklearn.metrics import mean_squared_error\n",
    "import numpy as np"
   ]
  },
  {
   "cell_type": "code",
   "execution_count": 50,
   "metadata": {},
   "outputs": [
    {
     "name": "stdout",
     "output_type": "stream",
     "text": [
      "2.5625751734046998\n"
     ]
    }
   ],
   "source": [
    "#Erro médio absoluto\n",
    "print(mean_absolute_error(Y_test, resultados))"
   ]
  },
  {
   "cell_type": "code",
   "execution_count": 51,
   "metadata": {},
   "outputs": [
    {
     "name": "stdout",
     "output_type": "stream",
     "text": [
      "9.87680665181563\n"
     ]
    }
   ],
   "source": [
    "#Erro médio quadrático\n",
    "print(mean_squared_error(Y_test, resultados))"
   ]
  },
  {
   "cell_type": "code",
   "execution_count": 52,
   "metadata": {},
   "outputs": [
    {
     "data": {
      "text/plain": [
       "array([[1.        , 0.76816745],\n",
       "       [0.76816745, 1.        ]])"
      ]
     },
     "execution_count": 52,
     "metadata": {},
     "output_type": "execute_result"
    }
   ],
   "source": [
    "#Coeficiente de correlação de Pearson\n",
    "np.corrcoef(Y_test, resultados)"
   ]
  }
 ],
 "metadata": {
  "kernelspec": {
   "display_name": "Python 3",
   "language": "python",
   "name": "python3"
  },
  "language_info": {
   "codemirror_mode": {
    "name": "ipython",
    "version": 3
   },
   "file_extension": ".py",
   "mimetype": "text/x-python",
   "name": "python",
   "nbconvert_exporter": "python",
   "pygments_lexer": "ipython3",
   "version": "3.6.8"
  }
 },
 "nbformat": 4,
 "nbformat_minor": 2
}
