{
  "nbformat": 4,
  "nbformat_minor": 0,
  "metadata": {
    "colab": {
      "name": "01 [Lab] - GE Data Science.ipynb",
      "version": "0.3.2",
      "provenance": [],
      "collapsed_sections": []
    },
    "kernelspec": {
      "name": "python3",
      "display_name": "Python 3"
    }
  },
  "cells": [
    {
      "cell_type": "code",
      "metadata": {
        "id": "aLdLd10JSafR",
        "colab_type": "code",
        "colab": {}
      },
      "source": [
        "#Importando bibliotecas Pandas e Matplotlib\n",
        "import pandas as pd\n",
        "import matplotlib.pyplot as plt"
      ],
      "execution_count": 0,
      "outputs": []
    },
    {
      "cell_type": "markdown",
      "metadata": {
        "id": "eh2a5B35WjyE",
        "colab_type": "text"
      },
      "source": [
        "# Antes de começar, é interessante que:\n",
        "### 1 - Tenhamos definido bem o problema que queremos resolver ou, pro caso de uma investigação, tenhamos pelo menos claro o nosso objetivo final.\n",
        "### 2 - Feito isso, definiremos a nossa base de dados, que será a partir dela que iremos desenvolver nosso trabalho.\n",
        "### 3 - Como último passo antes de colocarmos a mão na massa, é sempre bom visualizar nossa base de dados com algum editor de texto simples (Vim, Notepad ++, Bloco de Notas, etc), para entender como deveremos trabalhar em cima destes arquivos."
      ]
    },
    {
      "cell_type": "markdown",
      "metadata": {
        "id": "Q2m5-Tk4YHIv",
        "colab_type": "text"
      },
      "source": [
        "<h3> Base de dados: \n",
        "\n",
        "https://raw.githubusercontent.com/gilvandrocesardemedeiros/GEDataScience/master/Codes/Data/INMET-Dados_Mensais_Natal_1968-2018.csv"
      ]
    },
    {
      "cell_type": "markdown",
      "metadata": {
        "id": "jTyhwBZPYnqR",
        "colab_type": "text"
      },
      "source": [
        "<h3> Documentação para leitura de arquivos .csv no Pandas: \n",
        "\n",
        "http://pandas.pydata.org/pandas-docs/stable/reference/api/pandas.read_csv.html\n",
        "  "
      ]
    },
    {
      "cell_type": "code",
      "metadata": {
        "id": "JUz26bvPSoMs",
        "colab_type": "code",
        "colab": {}
      },
      "source": [
        "#Leitura dos dados\n",
        "dataSet = pd.read_csv(\"https://raw.githubusercontent.com/gilvandrocesardemedeiros/GEDataScience/master/Codes/Data/INMET-Dados_Mensais_Natal_1968-2018.csv\",\n",
        "                     sep = \";\")"
      ],
      "execution_count": 0,
      "outputs": []
    },
    {
      "cell_type": "code",
      "metadata": {
        "id": "Ka9tj2fMWYVg",
        "colab_type": "code",
        "colab": {}
      },
      "source": [
        "#Visualização geral dos dados\n",
        "dataSet"
      ],
      "execution_count": 0,
      "outputs": []
    },
    {
      "cell_type": "code",
      "metadata": {
        "id": "r33gxxxHbyUR",
        "colab_type": "code",
        "colab": {}
      },
      "source": [
        "#Visualização apenas do cabeçalho da base de dados\n",
        "dataSet.head()"
      ],
      "execution_count": 0,
      "outputs": []
    },
    {
      "cell_type": "code",
      "metadata": {
        "id": "z3nvtqNOcC0r",
        "colab_type": "code",
        "colab": {}
      },
      "source": [
        "#Visualizando o \"tipo\" da base de dados\n",
        "print(type(dataSet))"
      ],
      "execution_count": 0,
      "outputs": []
    },
    {
      "cell_type": "code",
      "metadata": {
        "id": "F56ikgj0b8p0",
        "colab_type": "code",
        "colab": {}
      },
      "source": [
        "#Visualizando apenas os títulos das labels\n",
        "print(list(dataSet))"
      ],
      "execution_count": 0,
      "outputs": []
    },
    {
      "cell_type": "code",
      "metadata": {
        "id": "LK2LnDDocT73",
        "colab_type": "code",
        "colab": {}
      },
      "source": [
        "#Visualizando apenas a coluna \"PrecipitacaoTotal\"\n",
        "dataSet[\"PrecipitacaoTotal\"]"
      ],
      "execution_count": 0,
      "outputs": []
    },
    {
      "cell_type": "code",
      "metadata": {
        "id": "qwmMFtrFdrKI",
        "colab_type": "code",
        "colab": {}
      },
      "source": [
        "#Visualizando o \"tipo\" deste objeto criado\n",
        "print(type(dataSet[\"PrecipitacaoTotal\"]))"
      ],
      "execution_count": 0,
      "outputs": []
    },
    {
      "cell_type": "code",
      "metadata": {
        "id": "q1_6rA_tdVLS",
        "colab_type": "code",
        "colab": {}
      },
      "source": [
        "#Visualizando os valores (sem os índices) da coluna \"PrecipitacaoTotal\"\n",
        "dataSet[\"PrecipitacaoTotal\"].values"
      ],
      "execution_count": 0,
      "outputs": []
    },
    {
      "cell_type": "code",
      "metadata": {
        "id": "Bxt9Hm8ldAhB",
        "colab_type": "code",
        "colab": {}
      },
      "source": [
        "#Visualizando o \"tipo\" deste objeto criado\n",
        "print(type(dataSet[\"PrecipitacaoTotal\"].values))"
      ],
      "execution_count": 0,
      "outputs": []
    },
    {
      "cell_type": "code",
      "metadata": {
        "id": "BtM9AJT7eF0G",
        "colab_type": "code",
        "colab": {}
      },
      "source": [
        "#Selecionando duas (ou mais) labels do DataFrame\n",
        "dataSet[[\"Data\",\"PrecipitacaoTotal\"]]"
      ],
      "execution_count": 0,
      "outputs": []
    },
    {
      "cell_type": "code",
      "metadata": {
        "id": "gWnBdsO5hFx_",
        "colab_type": "code",
        "colab": {}
      },
      "source": [
        "#Visualizando o tipo dos dados armazenados em cada label\n",
        "dataSet.dtypes"
      ],
      "execution_count": 0,
      "outputs": []
    },
    {
      "cell_type": "code",
      "metadata": {
        "id": "2XaTZzi8kbt9",
        "colab_type": "code",
        "colab": {}
      },
      "source": [
        "#Visualizando o dataSet novamente\n",
        "dataSet.head()"
      ],
      "execution_count": 0,
      "outputs": []
    },
    {
      "cell_type": "markdown",
      "metadata": {
        "id": "RoRgtsC-hxAB",
        "colab_type": "text"
      },
      "source": [
        "<h3> Trabalhando com datas: \n",
        "\n",
        "https://docs.python.org/3/library/datetime.html#available-types"
      ]
    },
    {
      "cell_type": "code",
      "metadata": {
        "id": "li29aHuIhq3n",
        "colab_type": "code",
        "colab": {}
      },
      "source": [
        "from datetime import datetime\n",
        "#Transformando data em variável do tipo datetime\n",
        "dataSet[\"Data\"] = pd.to_datetime(dataSet[\"Data\"], format = \"%d/%m/%Y\")"
      ],
      "execution_count": 0,
      "outputs": []
    },
    {
      "cell_type": "code",
      "metadata": {
        "id": "aGAQI10AknbQ",
        "colab_type": "code",
        "colab": {}
      },
      "source": [
        "#Visualizando o tipo dos dados armazenados em cada label\n",
        "dataSet.dtypes"
      ],
      "execution_count": 0,
      "outputs": []
    },
    {
      "cell_type": "code",
      "metadata": {
        "id": "tvKNFLclksA6",
        "colab_type": "code",
        "colab": {}
      },
      "source": [
        "#Visualizando o dataSet novamente\n",
        "dataSet.head()"
      ],
      "execution_count": 0,
      "outputs": []
    },
    {
      "cell_type": "code",
      "metadata": {
        "id": "rAcNo0ULk48R",
        "colab_type": "code",
        "colab": {}
      },
      "source": [
        "#Eliminando labels com problemas nos dados\n",
        "dataSet = dataSet.drop(columns = [\"EvapoBHPotencial\",\"EvapoBHReal\",\"PressaoNivelMarMedia\",\"PressaoMedia\",\"VisibilidadeMedia\",\"Unnamed: 20\"])"
      ],
      "execution_count": 0,
      "outputs": []
    },
    {
      "cell_type": "code",
      "metadata": {
        "id": "ypMRxlHylYu3",
        "colab_type": "code",
        "colab": {}
      },
      "source": [
        "#Visualizando o dataSet novamente\n",
        "dataSet.head()"
      ],
      "execution_count": 0,
      "outputs": []
    },
    {
      "cell_type": "code",
      "metadata": {
        "id": "0c3R9fD6legi",
        "colab_type": "code",
        "colab": {}
      },
      "source": [
        "#Verificando dimensões da base de dados\n",
        "dataSet.shape"
      ],
      "execution_count": 0,
      "outputs": []
    },
    {
      "cell_type": "code",
      "metadata": {
        "id": "2YRv2jBTlngZ",
        "colab_type": "code",
        "colab": {}
      },
      "source": [
        "#Eliminando eventuais falhas\n",
        "dataSet = dataSet.dropna()"
      ],
      "execution_count": 0,
      "outputs": []
    },
    {
      "cell_type": "code",
      "metadata": {
        "id": "apfsIkczlu18",
        "colab_type": "code",
        "colab": {}
      },
      "source": [
        "#Verificando novas dimensões da base de dados\n",
        "dataSet.shape"
      ],
      "execution_count": 0,
      "outputs": []
    },
    {
      "cell_type": "code",
      "metadata": {
        "id": "lVQLJb_hmu9h",
        "colab_type": "code",
        "colab": {}
      },
      "source": [
        "#Verificando os eventos em que a precipitação foi superior a 500 mm\n",
        "dataSet[dataSet[\"PrecipitacaoTotal\"] > 500]"
      ],
      "execution_count": 0,
      "outputs": []
    },
    {
      "cell_type": "code",
      "metadata": {
        "id": "XNsdcrqApcOD",
        "colab_type": "code",
        "colab": {}
      },
      "source": [
        "#Verificando os eventos em que a precipitação foi superior a 500 mm, mas visualizando apenas a data, número de dias de precipitação e temperatura máxima média\n",
        "dataSet[dataSet[\"PrecipitacaoTotal\"] > 500][[\"Data\",\"NumDiasPrecipitacao\",\"TempMaximaMedia\"]]"
      ],
      "execution_count": 0,
      "outputs": []
    },
    {
      "cell_type": "markdown",
      "metadata": {
        "id": "kBWhEfnarPR9",
        "colab_type": "text"
      },
      "source": [
        "<h3> Agora vamos trabalhar com gráficos em Matplotlib:\n",
        "\n",
        "https://matplotlib.org/gallery/index.html"
      ]
    },
    {
      "cell_type": "code",
      "metadata": {
        "id": "aJcixBVrtBb_",
        "colab_type": "code",
        "colab": {}
      },
      "source": [
        "#Plotagem simples\n",
        "plt.plot(dataSet[\"Data\"], dataSet[\"PrecipitacaoTotal\"])\n",
        "plt.title(\"Precipitação ao longo dos anos\")\n",
        "plt.xlabel(\"Data\")\n",
        "plt.ylabel(\"Precipitação\")\n",
        "plt.show()"
      ],
      "execution_count": 0,
      "outputs": []
    },
    {
      "cell_type": "code",
      "metadata": {
        "id": "8sc41IkFr6ud",
        "colab_type": "code",
        "colab": {}
      },
      "source": [
        "#Scatter plot\n",
        "plt.scatter(dataSet[\"Data\"], dataSet[\"PrecipitacaoTotal\"])\n",
        "plt.title(\"Precipitação ao longo dos anos\")\n",
        "plt.xlabel(\"Data\")\n",
        "plt.ylabel(\"Precipitação\")\n",
        "plt.show()"
      ],
      "execution_count": 0,
      "outputs": []
    }
  ]
}
